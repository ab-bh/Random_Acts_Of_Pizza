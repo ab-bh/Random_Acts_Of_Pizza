{
 "cells": [
  {
   "cell_type": "code",
   "execution_count": 1,
   "metadata": {
    "collapsed": false
   },
   "outputs": [
    {
     "name": "stdout",
     "output_type": "stream",
     "text": [
      "Populating the interactive namespace from numpy and matplotlib\n"
     ]
    }
   ],
   "source": [
    "%pylab inline\n",
    "import pandas as pd\n",
    "import numpy as np\n",
    "import matplotlib.pyplot as plt\n",
    "import seaborn as sns ## Beautiful Plots :)"
   ]
  },
  {
   "cell_type": "code",
   "execution_count": 2,
   "metadata": {
    "collapsed": false
   },
   "outputs": [],
   "source": [
    "import os\n",
    "import re\n",
    "import operator\n",
    "import datetime\n",
    "from collections import Counter\n",
    "from nltk import ngrams\n",
    "from utils import *\n",
    "import gc"
   ]
  },
  {
   "cell_type": "code",
   "execution_count": 3,
   "metadata": {
    "collapsed": false
   },
   "outputs": [],
   "source": [
    "from sklearn.model_selection import cross_val_score"
   ]
  },
  {
   "cell_type": "code",
   "execution_count": 4,
   "metadata": {
    "collapsed": true
   },
   "outputs": [],
   "source": [
    "from pylab import rcParams\n",
    "rcParams['figure.figsize'] = 20,10"
   ]
  },
  {
   "cell_type": "code",
   "execution_count": 5,
   "metadata": {
    "collapsed": false
   },
   "outputs": [],
   "source": [
    "class Random_Acts_Of_Pizza(object):\n",
    "    \"\"\"\n",
    "    This class takes in a dataframe from \"Random Acts Of Pizza\"\n",
    "    and creates a set of features for each requests present in\n",
    "    the data. The features can be explicitly accessed with the \n",
    "    help of methods of this class.\n",
    "    \"\"\"\n",
    "    \n",
    "    def __init__(self,dataframe):\n",
    "        \"\"\"\n",
    "        The input is a dataframe. We have explicitly used\n",
    "        data provided from the Kaggle competition named as\n",
    "        Random Acts Of Pizza.\n",
    "        Link : https://www.kaggle.com/c/random-acts-of-pizza/data\n",
    "        \"\"\"\n",
    "        self.df = dataframe\n",
    "    \n",
    "    def __str__(self):\n",
    "        return str(self.df.info())\n",
    "    \n",
    "    def get_narrative(self,col,narrative):\n",
    "        \"\"\"\n",
    "        Takes in input as the column and a lexicon for\n",
    "        the narrative. The lexicon is in the form of a \n",
    "        dictionary where key in the narrative and value\n",
    "        is a string containing all words relating to the\n",
    "        narrative.\n",
    "        Outputs a list containing narrative score for\n",
    "        each request\n",
    "        \"\"\"\n",
    "        request_narrative,narration = [],[]\n",
    "        for request in self.df[col]:\n",
    "            word_count = {'Money':0,'Job':0,'Student':0,'Family':0,'Craving':0}\n",
    "            n = 0\n",
    "            for word in request.split():\n",
    "                for lexicon in narrative:\n",
    "                    if word in narrative[lexicon]:\n",
    "                        word_count[lexicon] += 1\n",
    "            narration.append(max(word_count.iteritems(), key=operator.itemgetter(1))[0])\n",
    "        print 'Use get_dummies to encode the features as binary'\n",
    "        return narration\n",
    "    \n",
    "    def get_politeness(self,col,polite_words):\n",
    "        \"\"\"\n",
    "        Takes in input as the column for which politeness\n",
    "        needs to be calculated.\n",
    "        Output is a list of floats for each request where\n",
    "        each float corresponds to the politeness score for\n",
    "        each request.\n",
    "        \"\"\"\n",
    "        count,politeness = 0,[]\n",
    "        for request in self.df[col]:\n",
    "            count += 1\n",
    "            request_ngrams = []\n",
    "            for grams in ngrams(request.split(),3):\n",
    "                request_ngrams.append(' '.join(grams))\n",
    "            for grams in ngrams(request.split(),2):\n",
    "                request_ngrams.append(' '.join(grams))\n",
    "            request_words = set(request.split())\n",
    "            request_ngrams = set(request_ngrams)\n",
    "            num = len(request_words.intersection(set(polite_words))) +\\\n",
    "            len(request_ngrams.intersection(set(polite_words)))\n",
    "            try:\n",
    "                politeness.append(float(num)/len(request_words))\n",
    "            except:\n",
    "                politeness.append(0.0)\n",
    "        print 'Total Number of request parsed: ',count\n",
    "        return politeness\n",
    "    \n",
    "    def get_length(self,col):\n",
    "        \"\"\"\n",
    "        Takes input as the column name(for the request)\n",
    "        Outputs the length \n",
    "        \"\"\"\n",
    "        return [len(x.split()) for x in self.df[col]]\n",
    "    \n",
    "    def get_karma(self):\n",
    "        \"\"\"\n",
    "        Calculate the karma score for each user of the\n",
    "        RAOP.\n",
    "        Output is a list of karma score for each requester.\n",
    "        \"\"\"\n",
    "        karma = self.df['requester_upvotes_plus_downvotes_at_request']+\\\n",
    "        self.df['requester_upvotes_plus_downvotes_at_retrieval']\n",
    "        return karma\n",
    "    \n",
    "    def get_score(self):\n",
    "        \"\"\"\n",
    "        Calculates the score of each user of RAOP.\n",
    "        Output is a list of score for each user.\n",
    "        \"\"\"\n",
    "        score = self.df['requester_upvotes_minus_downvotes_at_request']+\\\n",
    "        self.df['requester_upvotes_minus_downvotes_at_retrieval']\n",
    "        return score\n",
    "    \n",
    "    def get_evidentiality(self,col):\n",
    "        \"\"\"\n",
    "        We count the occur- rences of http links, image links,\n",
    "        and “proof”/“prove”\n",
    "        Returns a list of number of urls for each request.\n",
    "        \"\"\"\n",
    "        urls = []\n",
    "        for text in self.df[col]:\n",
    "            url = re.findall('http[s]?://(?:[a-zA-Z]|[0-9]|[$-_@.&+]|[!*\\(\\),]|(?:%[0-9a-fA-F][0-9a-fA-F]))+', text)\n",
    "            urls.append(len(url))\n",
    "        return urls\n",
    "    \n",
    "    def get_complexity(self,col):\n",
    "        \"\"\"\n",
    "        Takes input as the column of request and calculate\n",
    "        the complexity score given by Flesch-Kincaid Grade \n",
    "        Level.\n",
    "        Returns a list of complexity score for each request.\n",
    "        \"\"\"\n",
    "        grade_level = []\n",
    "        syl = set(['a','e','i','o','u'])\n",
    "        for text in self.df[col]:\n",
    "            sent_cnt = len(text.split('.'))\n",
    "            words = re.sub(\"[\"+'!\"#$%&\\'()*+.,-/:;<=>?@[\\\\]^_`{|}~'+\"]\", \" \", text).split()\n",
    "            syl_count = 0\n",
    "            for word in words:\n",
    "                for letter in list(word):\n",
    "                    if letter in syl:\n",
    "                        syl_count += 1\n",
    "            grade_level.append(Flesch_reading_ease(total_sentences = sent_cnt,total_words = len(words),\\\n",
    "                                                   total_sylabls=syl_count))\n",
    "        return grade_level\n",
    "    \n",
    "    def spell_check_score(self,col):\n",
    "        \"\"\"\n",
    "        We further use a spell-checker to identify misspelled \n",
    "        words in the request text [10]. In other contexts \n",
    "        (e.g. Kickstarter), spelling errors have been found to\n",
    "        have a negative impact on funding success.\n",
    "        \n",
    "        Input is the column of request.\n",
    "        Returns a list of spelling check score for each\n",
    "        request\n",
    "        \"\"\"\n",
    "        spell_errors = []\n",
    "        for text in self.df[col]:\n",
    "            spl_err = 0\n",
    "            words = re.sub(\"[\"+'!\"#$%&\\'()*+.,-/:;<=>?@[\\\\]^_`{|}~'+\"]\", \" \", text).split()\n",
    "            if len(words):\n",
    "                for word in words:\n",
    "                    if correction(word)!= word: \n",
    "                        spl_err += 1\n",
    "                spell_errors.append(float(spl_err)/len(words))\n",
    "            else:\n",
    "                spell_errors.append(0)\n",
    "        return spell_errors\n",
    "    \n",
    "    def first_half_of_month(self,col):\n",
    "        \"\"\"\n",
    "        Input is the column containing the timestamp\n",
    "        Returns the day of the timestamp for a request\n",
    "        \"\"\"\n",
    "        return [datetime.datetime.fromtimestamp(int(timestamp)).day \\\n",
    "                for timestamp in self.df[col]]\n",
    "    \n",
    "    def get_popularity(self,col):\n",
    "        \"\"\"\n",
    "        Input is the column containing the total upvotes\n",
    "        the request got at time of retrieval\n",
    "        \"\"\"\n",
    "        return self.df[col]\n",
    "    \n",
    "    def get_usersimilarity(self , col):\n",
    "        store = []\n",
    "        \"\"\"\n",
    "        Input:\n",
    "            column containing username of requesters\n",
    "        Output:\n",
    "            score : Their similarity score based on interactions in common\n",
    "            subreddits between requester and  giver user\n",
    "        \"\"\"\n",
    "        for i in self.df[col]:\n",
    "            ls = list(self.df[self.df.requester_username == i].requester_subreddits_at_request)\n",
    "            giver_ = list(self.df[self.df.requester_username == i].giver_username_if_known)\n",
    "            score = 0\n",
    "            if len(ls[0]) and giver_[0] != \"N/A\":\n",
    "                for j in ls[0]:\n",
    "                    a = get_post_from_subreddit_by_user(i , j)\n",
    "                    b = get_post_from_subreddit_by_user(giver_[0] , j)\n",
    "                    if a != 0 and b != 0:\n",
    "                        score += (a+b)\n",
    "            store.append(score)\n",
    "        return store\n",
    "    def get_age(self):\n",
    "        \"\"\"\n",
    "        Input : void\n",
    "        Output : A panda series having the age of account\n",
    "        (present in dataset already)\n",
    "        \"\"\"\n",
    "        return df['requester_days_since_first_post_on_raop_at_request']\n",
    "    \n",
    "    def get_activity(self):\n",
    "        \"\"\"\n",
    "        Input : void\n",
    "        Output : A panda series having the activity of account\n",
    "        (present in dataset already)\n",
    "        \"\"\"\n",
    "        return self.df['requester_number_of_subreddits_at_request']\n",
    "    \n",
    "    def train_model(self,data,model,response_col,scoring='roc_auc',cv=5):\n",
    "        \"\"\"\n",
    "        Input:\n",
    "            data : new morphed data frame\n",
    "            model : the model on which data is to be trained.\n",
    "            response_col : name of column to be used as\n",
    "            response\n",
    "            cv : number of cross validation scores\n",
    "            scoring : method of scoring\n",
    "        Output:\n",
    "            score : k-fold cv score for the model\n",
    "        \"\"\"\n",
    "        data_copy = data.copy()\n",
    "        y = data_copy.pop(response_col)\n",
    "        scores = cross_val_score(model,data_copy,y,scoring=scoring,cv=cv)\n",
    "        del data_copy,y # Dataframe may be too large\n",
    "        gc.collect() # Explicitly collecting the garbage\n",
    "        return scores.mean()\n",
    "\n",
    "    "
   ]
  },
  {
   "cell_type": "code",
   "execution_count": 6,
   "metadata": {
    "collapsed": false
   },
   "outputs": [],
   "source": [
    "df = pd.read_json('../Dataset/Random Acts Of Pizza/train.json')\n",
    "requests = 'request_text_edit_aware'"
   ]
  },
  {
   "cell_type": "code",
   "execution_count": 7,
   "metadata": {
    "collapsed": false
   },
   "outputs": [
    {
     "data": {
      "text/html": [
       "<div>\n",
       "<table border=\"1\" class=\"dataframe\">\n",
       "  <thead>\n",
       "    <tr style=\"text-align: right;\">\n",
       "      <th></th>\n",
       "      <th>giver_username_if_known</th>\n",
       "      <th>number_of_downvotes_of_request_at_retrieval</th>\n",
       "      <th>number_of_upvotes_of_request_at_retrieval</th>\n",
       "      <th>post_was_edited</th>\n",
       "      <th>request_id</th>\n",
       "      <th>request_number_of_comments_at_retrieval</th>\n",
       "      <th>request_text</th>\n",
       "      <th>request_text_edit_aware</th>\n",
       "      <th>request_title</th>\n",
       "      <th>requester_account_age_in_days_at_request</th>\n",
       "      <th>...</th>\n",
       "      <th>requester_received_pizza</th>\n",
       "      <th>requester_subreddits_at_request</th>\n",
       "      <th>requester_upvotes_minus_downvotes_at_request</th>\n",
       "      <th>requester_upvotes_minus_downvotes_at_retrieval</th>\n",
       "      <th>requester_upvotes_plus_downvotes_at_request</th>\n",
       "      <th>requester_upvotes_plus_downvotes_at_retrieval</th>\n",
       "      <th>requester_user_flair</th>\n",
       "      <th>requester_username</th>\n",
       "      <th>unix_timestamp_of_request</th>\n",
       "      <th>unix_timestamp_of_request_utc</th>\n",
       "    </tr>\n",
       "  </thead>\n",
       "  <tbody>\n",
       "    <tr>\n",
       "      <th>0</th>\n",
       "      <td>N/A</td>\n",
       "      <td>0</td>\n",
       "      <td>1</td>\n",
       "      <td>0</td>\n",
       "      <td>t3_l25d7</td>\n",
       "      <td>0</td>\n",
       "      <td>Hi I am in need of food for my 4 children we a...</td>\n",
       "      <td>Hi I am in need of food for my 4 children we a...</td>\n",
       "      <td>Request Colorado Springs Help Us Please</td>\n",
       "      <td>0.0000</td>\n",
       "      <td>...</td>\n",
       "      <td>False</td>\n",
       "      <td>[]</td>\n",
       "      <td>0</td>\n",
       "      <td>1</td>\n",
       "      <td>0</td>\n",
       "      <td>1</td>\n",
       "      <td>None</td>\n",
       "      <td>nickylvst</td>\n",
       "      <td>1317852607</td>\n",
       "      <td>1317849007</td>\n",
       "    </tr>\n",
       "    <tr>\n",
       "      <th>1</th>\n",
       "      <td>N/A</td>\n",
       "      <td>2</td>\n",
       "      <td>5</td>\n",
       "      <td>0</td>\n",
       "      <td>t3_rcb83</td>\n",
       "      <td>0</td>\n",
       "      <td>I spent the last money I had on gas today. Im ...</td>\n",
       "      <td>I spent the last money I had on gas today. Im ...</td>\n",
       "      <td>[Request] California, No cash and I could use ...</td>\n",
       "      <td>501.1111</td>\n",
       "      <td>...</td>\n",
       "      <td>False</td>\n",
       "      <td>[AskReddit, Eve, IAmA, MontereyBay, RandomKind...</td>\n",
       "      <td>34</td>\n",
       "      <td>4258</td>\n",
       "      <td>116</td>\n",
       "      <td>11168</td>\n",
       "      <td>None</td>\n",
       "      <td>fohacidal</td>\n",
       "      <td>1332652424</td>\n",
       "      <td>1332648824</td>\n",
       "    </tr>\n",
       "  </tbody>\n",
       "</table>\n",
       "<p>2 rows × 32 columns</p>\n",
       "</div>"
      ],
      "text/plain": [
       "  giver_username_if_known  number_of_downvotes_of_request_at_retrieval  \\\n",
       "0                     N/A                                            0   \n",
       "1                     N/A                                            2   \n",
       "\n",
       "   number_of_upvotes_of_request_at_retrieval  post_was_edited request_id  \\\n",
       "0                                          1                0   t3_l25d7   \n",
       "1                                          5                0   t3_rcb83   \n",
       "\n",
       "   request_number_of_comments_at_retrieval  \\\n",
       "0                                        0   \n",
       "1                                        0   \n",
       "\n",
       "                                        request_text  \\\n",
       "0  Hi I am in need of food for my 4 children we a...   \n",
       "1  I spent the last money I had on gas today. Im ...   \n",
       "\n",
       "                             request_text_edit_aware  \\\n",
       "0  Hi I am in need of food for my 4 children we a...   \n",
       "1  I spent the last money I had on gas today. Im ...   \n",
       "\n",
       "                                       request_title  \\\n",
       "0            Request Colorado Springs Help Us Please   \n",
       "1  [Request] California, No cash and I could use ...   \n",
       "\n",
       "   requester_account_age_in_days_at_request              ...                \\\n",
       "0                                    0.0000              ...                 \n",
       "1                                  501.1111              ...                 \n",
       "\n",
       "   requester_received_pizza  \\\n",
       "0                     False   \n",
       "1                     False   \n",
       "\n",
       "                     requester_subreddits_at_request  \\\n",
       "0                                                 []   \n",
       "1  [AskReddit, Eve, IAmA, MontereyBay, RandomKind...   \n",
       "\n",
       "   requester_upvotes_minus_downvotes_at_request  \\\n",
       "0                                             0   \n",
       "1                                            34   \n",
       "\n",
       "   requester_upvotes_minus_downvotes_at_retrieval  \\\n",
       "0                                               1   \n",
       "1                                            4258   \n",
       "\n",
       "   requester_upvotes_plus_downvotes_at_request  \\\n",
       "0                                            0   \n",
       "1                                          116   \n",
       "\n",
       "   requester_upvotes_plus_downvotes_at_retrieval  requester_user_flair  \\\n",
       "0                                              1                  None   \n",
       "1                                          11168                  None   \n",
       "\n",
       "   requester_username  unix_timestamp_of_request  \\\n",
       "0           nickylvst                 1317852607   \n",
       "1           fohacidal                 1332652424   \n",
       "\n",
       "   unix_timestamp_of_request_utc  \n",
       "0                     1317849007  \n",
       "1                     1332648824  \n",
       "\n",
       "[2 rows x 32 columns]"
      ]
     },
     "execution_count": 7,
     "metadata": {},
     "output_type": "execute_result"
    }
   ],
   "source": [
    "df.head(2)"
   ]
  },
  {
   "cell_type": "code",
   "execution_count": 8,
   "metadata": {
    "collapsed": false
   },
   "outputs": [
    {
     "name": "stdout",
     "output_type": "stream",
     "text": [
      "<class 'pandas.core.frame.DataFrame'>\n",
      "Int64Index: 4040 entries, 0 to 4039\n",
      "Data columns (total 32 columns):\n",
      "giver_username_if_known                                 4040 non-null object\n",
      "number_of_downvotes_of_request_at_retrieval             4040 non-null int64\n",
      "number_of_upvotes_of_request_at_retrieval               4040 non-null int64\n",
      "post_was_edited                                         4040 non-null int64\n",
      "request_id                                              4040 non-null object\n",
      "request_number_of_comments_at_retrieval                 4040 non-null int64\n",
      "request_text                                            4040 non-null object\n",
      "request_text_edit_aware                                 4040 non-null object\n",
      "request_title                                           4040 non-null object\n",
      "requester_account_age_in_days_at_request                4040 non-null float64\n",
      "requester_account_age_in_days_at_retrieval              4040 non-null float64\n",
      "requester_days_since_first_post_on_raop_at_request      4040 non-null float64\n",
      "requester_days_since_first_post_on_raop_at_retrieval    4040 non-null float64\n",
      "requester_number_of_comments_at_request                 4040 non-null int64\n",
      "requester_number_of_comments_at_retrieval               4040 non-null int64\n",
      "requester_number_of_comments_in_raop_at_request         4040 non-null int64\n",
      "requester_number_of_comments_in_raop_at_retrieval       4040 non-null int64\n",
      "requester_number_of_posts_at_request                    4040 non-null int64\n",
      "requester_number_of_posts_at_retrieval                  4040 non-null int64\n",
      "requester_number_of_posts_on_raop_at_request            4040 non-null int64\n",
      "requester_number_of_posts_on_raop_at_retrieval          4040 non-null int64\n",
      "requester_number_of_subreddits_at_request               4040 non-null int64\n",
      "requester_received_pizza                                4040 non-null bool\n",
      "requester_subreddits_at_request                         4040 non-null object\n",
      "requester_upvotes_minus_downvotes_at_request            4040 non-null int64\n",
      "requester_upvotes_minus_downvotes_at_retrieval          4040 non-null int64\n",
      "requester_upvotes_plus_downvotes_at_request             4040 non-null int64\n",
      "requester_upvotes_plus_downvotes_at_retrieval           4040 non-null int64\n",
      "requester_user_flair                                    994 non-null object\n",
      "requester_username                                      4040 non-null object\n",
      "unix_timestamp_of_request                               4040 non-null int64\n",
      "unix_timestamp_of_request_utc                           4040 non-null int64\n",
      "dtypes: bool(1), float64(4), int64(19), object(8)\n",
      "memory usage: 1013.9+ KB\n",
      "None\n"
     ]
    }
   ],
   "source": [
    "raop = Random_Acts_Of_Pizza(df)\n",
    "print raop"
   ]
  },
  {
   "cell_type": "code",
   "execution_count": 9,
   "metadata": {
    "collapsed": false
   },
   "outputs": [
    {
     "name": "stdout",
     "output_type": "stream",
     "text": [
      "Use get_dummies to encode the features as binary\n",
      "Total Number of request parsed:  4040\n"
     ]
    }
   ],
   "source": [
    "## Calculating all the features\n",
    "narrative = raop.get_narrative(col=requests,narrative=narrative)\n",
    "df['narrative_topics'] = narrative\n",
    "df = pd.get_dummies(df,columns=['narrative_topics'])\n",
    "df['politeness'] =  raop.get_politeness(col=requests,polite_words=polite_words)\n",
    "df['request_length'] = raop.get_length(requests)\n",
    "df['karma'] = raop.get_karma()\n",
    "df['scores'] = raop.get_score()\n",
    "df['trust'] = raop.get_evidentiality(requests)\n",
    "df['complexity'] = raop.get_complexity(requests)\n",
    "df['popularity'] = raop.get_popularity('number_of_upvotes_of_request_at_retrieval' )\n",
    "df['age'] = raop.get_age()\n",
    "df['first_half_of_month'] = pd.Series(raop.first_half_of_month('unix_timestamp_of_request')) < 15\n",
    "df['activity'] = raop.get_activity()"
   ]
  },
  {
   "cell_type": "code",
   "execution_count": 10,
   "metadata": {
    "collapsed": false
   },
   "outputs": [
    {
     "name": "stdout",
     "output_type": "stream",
     "text": [
      "File exists...\n"
     ]
    }
   ],
   "source": [
    "if not os.path.isfile('spellCheck.csv'):\n",
    "    df['spell_check_score'] = raop.spell_check_score(requests)\n",
    "    df['spell_check_score'].to_csv('spellCheck.csv')\n",
    "    print df.spell_check_score.head(2)\n",
    "else:\n",
    "    print 'File exists...'\n",
    "    df['spell_check_score'] = pd.read_csv('spellCheck.csv',index_col=0,header=None)"
   ]
  },
  {
   "cell_type": "code",
   "execution_count": 11,
   "metadata": {
    "collapsed": false
   },
   "outputs": [
    {
     "name": "stdout",
     "output_type": "stream",
     "text": [
      "File exists...\n"
     ]
    }
   ],
   "source": [
    "if not os.path.isfile('similarity.csv'):\n",
    "    df['similarity'] = raop.get_usersimilarity('requester_username')\n",
    "    df['similarity'].to_csv('similarity.csv')\n",
    "else:\n",
    "    print 'File exists...'\n",
    "    df['similarity'] = pd.read_csv('similarity.csv',header=None,index_col=0)"
   ]
  },
  {
   "cell_type": "code",
   "execution_count": 12,
   "metadata": {
    "collapsed": false
   },
   "outputs": [],
   "source": [
    "df['sentiment'] = pd.read_csv('sentiment.csv',index_col=0,header=None).fillna(0)"
   ]
  },
  {
   "cell_type": "code",
   "execution_count": 13,
   "metadata": {
    "collapsed": true
   },
   "outputs": [],
   "source": [
    "# Giver username (optional feature)\n",
    "df['giver'] = df['giver_username_if_known'].map({'N/A':0}).fillna(1)"
   ]
  },
  {
   "cell_type": "code",
   "execution_count": 14,
   "metadata": {
    "collapsed": false
   },
   "outputs": [],
   "source": [
    "req_features = [\n",
    " 'complexity',\n",
    " 'first_half_of_month',\n",
    " 'karma',\n",
    " 'narrative_topics_Craving',\n",
    " 'narrative_topics_Family',\n",
    " 'narrative_topics_Job',\n",
    " 'narrative_topics_Money',\n",
    " 'narrative_topics_Student',\n",
    " 'politeness',\n",
    " 'popularity',\n",
    " 'request_length',\n",
    " 'scores',\n",
    " 'trust',\n",
    " 'requester_received_pizza',\n",
    " 'similarity',\n",
    " 'sentiment',\n",
    " 'giver',\n",
    " 'activity',\n",
    " 'age',\n",
    " 'spell_check_score',\n",
    "]\n"
   ]
  },
  {
   "cell_type": "code",
   "execution_count": 15,
   "metadata": {
    "collapsed": false
   },
   "outputs": [
    {
     "data": {
      "text/html": [
       "<div>\n",
       "<table border=\"1\" class=\"dataframe\">\n",
       "  <thead>\n",
       "    <tr style=\"text-align: right;\">\n",
       "      <th></th>\n",
       "      <th>requester_received_pizza</th>\n",
       "      <th>narrative_topics_Craving</th>\n",
       "      <th>narrative_topics_Family</th>\n",
       "      <th>narrative_topics_Job</th>\n",
       "      <th>narrative_topics_Money</th>\n",
       "      <th>narrative_topics_Student</th>\n",
       "      <th>politeness</th>\n",
       "      <th>request_length</th>\n",
       "      <th>karma</th>\n",
       "      <th>scores</th>\n",
       "      <th>trust</th>\n",
       "      <th>complexity</th>\n",
       "      <th>popularity</th>\n",
       "      <th>age</th>\n",
       "      <th>first_half_of_month</th>\n",
       "      <th>activity</th>\n",
       "      <th>spell_check_score</th>\n",
       "      <th>similarity</th>\n",
       "      <th>sentiment</th>\n",
       "      <th>giver</th>\n",
       "    </tr>\n",
       "  </thead>\n",
       "  <tbody>\n",
       "    <tr>\n",
       "      <th>0</th>\n",
       "      <td>False</td>\n",
       "      <td>0.0</td>\n",
       "      <td>1.0</td>\n",
       "      <td>0.0</td>\n",
       "      <td>0.0</td>\n",
       "      <td>0.0</td>\n",
       "      <td>0.0</td>\n",
       "      <td>67</td>\n",
       "      <td>1</td>\n",
       "      <td>1</td>\n",
       "      <td>0</td>\n",
       "      <td>22.34</td>\n",
       "      <td>1</td>\n",
       "      <td>0.0</td>\n",
       "      <td>True</td>\n",
       "      <td>0</td>\n",
       "      <td>0.044776</td>\n",
       "      <td>0</td>\n",
       "      <td>2.250</td>\n",
       "      <td>0.0</td>\n",
       "    </tr>\n",
       "    <tr>\n",
       "      <th>1</th>\n",
       "      <td>False</td>\n",
       "      <td>0.0</td>\n",
       "      <td>0.0</td>\n",
       "      <td>0.0</td>\n",
       "      <td>1.0</td>\n",
       "      <td>0.0</td>\n",
       "      <td>0.0</td>\n",
       "      <td>16</td>\n",
       "      <td>11284</td>\n",
       "      <td>4292</td>\n",
       "      <td>0</td>\n",
       "      <td>-1.06</td>\n",
       "      <td>5</td>\n",
       "      <td>0.0</td>\n",
       "      <td>False</td>\n",
       "      <td>12</td>\n",
       "      <td>0.266667</td>\n",
       "      <td>0</td>\n",
       "      <td>0.375</td>\n",
       "      <td>0.0</td>\n",
       "    </tr>\n",
       "  </tbody>\n",
       "</table>\n",
       "</div>"
      ],
      "text/plain": [
       "  requester_received_pizza  narrative_topics_Craving  narrative_topics_Family  \\\n",
       "0                    False                       0.0                      1.0   \n",
       "1                    False                       0.0                      0.0   \n",
       "\n",
       "   narrative_topics_Job  narrative_topics_Money  narrative_topics_Student  \\\n",
       "0                   0.0                     0.0                       0.0   \n",
       "1                   0.0                     1.0                       0.0   \n",
       "\n",
       "   politeness  request_length  karma  scores  trust  complexity  popularity  \\\n",
       "0         0.0              67      1       1      0       22.34           1   \n",
       "1         0.0              16  11284    4292      0       -1.06           5   \n",
       "\n",
       "   age first_half_of_month  activity  spell_check_score  similarity  \\\n",
       "0  0.0                True         0           0.044776           0   \n",
       "1  0.0               False        12           0.266667           0   \n",
       "\n",
       "   sentiment  giver  \n",
       "0      2.250    0.0  \n",
       "1      0.375    0.0  "
      ]
     },
     "execution_count": 15,
     "metadata": {},
     "output_type": "execute_result"
    }
   ],
   "source": [
    "df_new = df.drop([col for col in df.columns if col not in req_features],axis=1)\n",
    "df_new.head(2)"
   ]
  },
  {
   "cell_type": "code",
   "execution_count": 16,
   "metadata": {
    "collapsed": false
   },
   "outputs": [],
   "source": [
    "from sklearn.linear_model import LogisticRegression\n",
    "model = LogisticRegression(penalty='l1')\n",
    "score = raop.train_model(df_new,model=model,response_col='requester_received_pizza',cv=2)"
   ]
  },
  {
   "cell_type": "code",
   "execution_count": 17,
   "metadata": {
    "collapsed": false
   },
   "outputs": [
    {
     "name": "stdout",
     "output_type": "stream",
     "text": [
      "ROC Score: 74.5651188814\n"
     ]
    }
   ],
   "source": [
    "print 'ROC Score: {}'.format(score*100)"
   ]
  },
  {
   "cell_type": "markdown",
   "metadata": {
    "collapsed": false
   },
   "source": [
    "#### COMPARISON MODELS "
   ]
  },
  {
   "cell_type": "code",
   "execution_count": 21,
   "metadata": {
    "collapsed": false
   },
   "outputs": [],
   "source": [
    "from sklearn.linear_model import LogisticRegression\n",
    "from sklearn.neighbors import KNeighborsClassifier\n",
    "from sklearn.svm import SVC\n",
    "from sklearn.naive_bayes import MultinomialNB\n",
    "from sklearn.linear_model import SGDClassifier   \n",
    "from sklearn.discriminant_analysis import QuadraticDiscriminantAnalysis\n",
    "from sklearn.ensemble import RandomForestClassifier, AdaBoostClassifier\n",
    "import xgboost\n",
    "from sklearn.discriminant_analysis import LinearDiscriminantAnalysis\n",
    "from sklearn.naive_bayes import GaussianNB\n",
    "from sklearn.tree import DecisionTreeClassifier\n",
    "\n",
    "classifiers=[\n",
    "    (LogisticRegression(penalty='l1'),\"LR\"),\n",
    "    (KNeighborsClassifier(5),\"KNC\"),\n",
    "    (RandomForestClassifier(max_depth=50, n_estimators=100, max_features=1),'RFC'),\n",
    "    (AdaBoostClassifier(),'ADC'),\n",
    "    (SGDClassifier(),'SGDC'),\n",
    "    (DecisionTreeClassifier(max_depth=5),'DTC'),\n",
    "    (xgboost.XGBClassifier(learning_rate=0.1),'XGB'),\n",
    "]"
   ]
  },
  {
   "cell_type": "code",
   "execution_count": 22,
   "metadata": {
    "collapsed": false
   },
   "outputs": [
    {
     "name": "stdout",
     "output_type": "stream",
     "text": [
      "ROC Score: 73.9649622143 LR\n",
      "ROC Score: 57.0828822195 KNC\n",
      "ROC Score: 76.0055937985 RFC\n",
      "ROC Score: 76.4531327603 ADC\n",
      "ROC Score: 41.1914622025 SGDC\n",
      "ROC Score: 75.6434118263 DTC\n",
      "ROC Score: 77.9137520943 XGB\n"
     ]
    }
   ],
   "source": [
    "score_ , names = [] , []\n",
    "for model,name in classifiers:\n",
    "    score = raop.train_model(df_new,model=model,response_col='requester_received_pizza')\n",
    "    score_.append(score)\n",
    "    names.append(name)\n",
    "    print 'ROC Score: {}'.format(score*100) , name"
   ]
  },
  {
   "cell_type": "code",
   "execution_count": 23,
   "metadata": {
    "collapsed": false
   },
   "outputs": [
    {
     "data": {
      "image/png": "[encoded data removed]",
      "text/plain": [
       "<matplotlib.figure.Figure at 0x120f896d0>"
      ]
     },
     "metadata": {},
     "output_type": "display_data"
    }
   ],
   "source": [
    "fig = plt.figure()\n",
    "ax = fig.add_subplot(111)\n",
    "A = score_[:]\n",
    "plt.plot(A)\n",
    "for i, label in enumerate(names):\n",
    "    plt.text(i,A[i], label) \n",
    "plt.show()"
   ]
  },
  {
   "cell_type": "code",
   "execution_count": null,
   "metadata": {
    "collapsed": true
   },
   "outputs": [],
   "source": []
  }
 ],
 "metadata": {
  "anaconda-cloud": {},
  "kernelspec": {
   "display_name": "Python [default]",
   "language": "python",
   "name": "python2"
  },
  "language_info": {
   "codemirror_mode": {
    "name": "ipython",
    "version": 2
   },
   "file_extension": ".py",
   "mimetype": "text/x-python",
   "name": "python",
   "nbconvert_exporter": "python",
   "pygments_lexer": "ipython2",
   "version": "2.7.12"
  }
 },
 "nbformat": 4,
 "nbformat_minor": 1
}
