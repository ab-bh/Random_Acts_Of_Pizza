{
 "cells": [
  {
   "cell_type": "markdown",
   "metadata": {},
   "source": [
    "## Assessing the quality of features "
   ]
  },
  {
   "cell_type": "markdown",
   "metadata": {},
   "source": [
    "### Features of the ongoing research project :\n",
    "1. This Research Work comprises of finding which features contribute to the success of a request. \n",
    "2. The dataset is obtained from http://www/kaggle.com and comes from the Random Acts Of Pizza subreddit at http://reddit.com.\n",
    "3. This dataset comes with 5671 textual requests for pizza from the Reddit community with their outcome (successful/unsuccessful) and meta-data."
   ]
  },
  {
   "cell_type": "code",
   "execution_count": 1,
   "metadata": {
    "collapsed": false
   },
   "outputs": [
    {
     "name": "stdout",
     "output_type": "stream",
     "text": [
      "Populating the interactive namespace from numpy and matplotlib\n"
     ]
    }
   ],
   "source": [
    "%pylab inline\n",
    "import pandas as pd\n",
    "import seaborn as sns\n",
    "import matplotlib.pyplot as plt\n",
    "import numpy as np"
   ]
  },
  {
   "cell_type": "code",
   "execution_count": 2,
   "metadata": {
    "collapsed": false
   },
   "outputs": [],
   "source": [
    "import re\n",
    "from nltk.corpus import stopwords\n",
    "from collections import Counter\n",
    "from nltk.corpus import wordnet as wn\n",
    "nouns = {x.name().split('.', 1)[0] for x in wn.all_synsets('n')}"
   ]
  },
  {
   "cell_type": "code",
   "execution_count": 3,
   "metadata": {
    "collapsed": true
   },
   "outputs": [],
   "source": [
    "import warnings\n",
    "warnings.filterwarnings('ignore')"
   ]
  },
  {
   "cell_type": "code",
   "execution_count": 4,
   "metadata": {
    "collapsed": true
   },
   "outputs": [],
   "source": [
    "from pylab import rcParams\n",
    "rcParams['figure.figsize'] = 20,10"
   ]
  },
  {
   "cell_type": "code",
   "execution_count": 5,
   "metadata": {
    "collapsed": false
   },
   "outputs": [
    {
     "data": {
      "text/html": [
       "<div>\n",
       "<table border=\"1\" class=\"dataframe\">\n",
       "  <thead>\n",
       "    <tr style=\"text-align: right;\">\n",
       "      <th></th>\n",
       "      <th>giver_username_if_known</th>\n",
       "      <th>number_of_downvotes_of_request_at_retrieval</th>\n",
       "      <th>number_of_upvotes_of_request_at_retrieval</th>\n",
       "      <th>post_was_edited</th>\n",
       "      <th>request_id</th>\n",
       "      <th>request_number_of_comments_at_retrieval</th>\n",
       "      <th>request_text</th>\n",
       "      <th>request_text_edit_aware</th>\n",
       "      <th>request_title</th>\n",
       "      <th>requester_account_age_in_days_at_request</th>\n",
       "      <th>...</th>\n",
       "      <th>requester_subreddits_at_request</th>\n",
       "      <th>requester_upvotes_minus_downvotes_at_request</th>\n",
       "      <th>requester_upvotes_minus_downvotes_at_retrieval</th>\n",
       "      <th>requester_upvotes_plus_downvotes_at_request</th>\n",
       "      <th>requester_upvotes_plus_downvotes_at_retrieval</th>\n",
       "      <th>requester_user_flair</th>\n",
       "      <th>requester_username</th>\n",
       "      <th>unix_timestamp_of_request</th>\n",
       "      <th>unix_timestamp_of_request_utc</th>\n",
       "      <th>data_type</th>\n",
       "    </tr>\n",
       "  </thead>\n",
       "  <tbody>\n",
       "    <tr>\n",
       "      <th>0</th>\n",
       "      <td>N/A</td>\n",
       "      <td>0</td>\n",
       "      <td>1</td>\n",
       "      <td>0</td>\n",
       "      <td>t3_l25d7</td>\n",
       "      <td>0</td>\n",
       "      <td>Hi I am in need of food for my 4 children we a...</td>\n",
       "      <td>Hi I am in need of food for my 4 children we a...</td>\n",
       "      <td>Request Colorado Springs Help Us Please</td>\n",
       "      <td>0.0000</td>\n",
       "      <td>...</td>\n",
       "      <td>[]</td>\n",
       "      <td>0</td>\n",
       "      <td>1</td>\n",
       "      <td>0</td>\n",
       "      <td>1</td>\n",
       "      <td>None</td>\n",
       "      <td>nickylvst</td>\n",
       "      <td>1317852607</td>\n",
       "      <td>1317849007</td>\n",
       "      <td>train</td>\n",
       "    </tr>\n",
       "    <tr>\n",
       "      <th>1</th>\n",
       "      <td>N/A</td>\n",
       "      <td>2</td>\n",
       "      <td>5</td>\n",
       "      <td>0</td>\n",
       "      <td>t3_rcb83</td>\n",
       "      <td>0</td>\n",
       "      <td>I spent the last money I had on gas today. Im ...</td>\n",
       "      <td>I spent the last money I had on gas today. Im ...</td>\n",
       "      <td>[Request] California, No cash and I could use ...</td>\n",
       "      <td>501.1111</td>\n",
       "      <td>...</td>\n",
       "      <td>[AskReddit, Eve, IAmA, MontereyBay, RandomKind...</td>\n",
       "      <td>34</td>\n",
       "      <td>4258</td>\n",
       "      <td>116</td>\n",
       "      <td>11168</td>\n",
       "      <td>None</td>\n",
       "      <td>fohacidal</td>\n",
       "      <td>1332652424</td>\n",
       "      <td>1332648824</td>\n",
       "      <td>train</td>\n",
       "    </tr>\n",
       "  </tbody>\n",
       "</table>\n",
       "<p>2 rows × 32 columns</p>\n",
       "</div>"
      ],
      "text/plain": [
       "  giver_username_if_known  number_of_downvotes_of_request_at_retrieval  \\\n",
       "0                     N/A                                            0   \n",
       "1                     N/A                                            2   \n",
       "\n",
       "   number_of_upvotes_of_request_at_retrieval  post_was_edited request_id  \\\n",
       "0                                          1                0   t3_l25d7   \n",
       "1                                          5                0   t3_rcb83   \n",
       "\n",
       "   request_number_of_comments_at_retrieval  \\\n",
       "0                                        0   \n",
       "1                                        0   \n",
       "\n",
       "                                        request_text  \\\n",
       "0  Hi I am in need of food for my 4 children we a...   \n",
       "1  I spent the last money I had on gas today. Im ...   \n",
       "\n",
       "                             request_text_edit_aware  \\\n",
       "0  Hi I am in need of food for my 4 children we a...   \n",
       "1  I spent the last money I had on gas today. Im ...   \n",
       "\n",
       "                                       request_title  \\\n",
       "0            Request Colorado Springs Help Us Please   \n",
       "1  [Request] California, No cash and I could use ...   \n",
       "\n",
       "   requester_account_age_in_days_at_request    ...      \\\n",
       "0                                    0.0000    ...       \n",
       "1                                  501.1111    ...       \n",
       "\n",
       "                     requester_subreddits_at_request  \\\n",
       "0                                                 []   \n",
       "1  [AskReddit, Eve, IAmA, MontereyBay, RandomKind...   \n",
       "\n",
       "   requester_upvotes_minus_downvotes_at_request  \\\n",
       "0                                             0   \n",
       "1                                            34   \n",
       "\n",
       "   requester_upvotes_minus_downvotes_at_retrieval  \\\n",
       "0                                               1   \n",
       "1                                            4258   \n",
       "\n",
       "   requester_upvotes_plus_downvotes_at_request  \\\n",
       "0                                            0   \n",
       "1                                          116   \n",
       "\n",
       "   requester_upvotes_plus_downvotes_at_retrieval  requester_user_flair  \\\n",
       "0                                              1                  None   \n",
       "1                                          11168                  None   \n",
       "\n",
       "   requester_username  unix_timestamp_of_request  \\\n",
       "0           nickylvst                 1317852607   \n",
       "1           fohacidal                 1332652424   \n",
       "\n",
       "   unix_timestamp_of_request_utc  data_type  \n",
       "0                     1317849007      train  \n",
       "1                     1332648824      train  \n",
       "\n",
       "[2 rows x 32 columns]"
      ]
     },
     "execution_count": 5,
     "metadata": {},
     "output_type": "execute_result"
    }
   ],
   "source": [
    "data_train = pd.read_json('../Dataset/Random Acts Of Pizza/train.json')\n",
    "data_train['data_type'] = 'train'\n",
    "y = data_train.pop('requester_received_pizza')\n",
    "data_train.head(2)"
   ]
  },
  {
   "cell_type": "code",
   "execution_count": 6,
   "metadata": {
    "collapsed": false
   },
   "outputs": [
    {
     "data": {
      "text/html": [
       "<div>\n",
       "<table border=\"1\" class=\"dataframe\">\n",
       "  <thead>\n",
       "    <tr style=\"text-align: right;\">\n",
       "      <th></th>\n",
       "      <th>giver_username_if_known</th>\n",
       "      <th>request_id</th>\n",
       "      <th>request_text_edit_aware</th>\n",
       "      <th>request_title</th>\n",
       "      <th>requester_account_age_in_days_at_request</th>\n",
       "      <th>requester_days_since_first_post_on_raop_at_request</th>\n",
       "      <th>requester_number_of_comments_at_request</th>\n",
       "      <th>requester_number_of_comments_in_raop_at_request</th>\n",
       "      <th>requester_number_of_posts_at_request</th>\n",
       "      <th>requester_number_of_posts_on_raop_at_request</th>\n",
       "      <th>requester_number_of_subreddits_at_request</th>\n",
       "      <th>requester_subreddits_at_request</th>\n",
       "      <th>requester_upvotes_minus_downvotes_at_request</th>\n",
       "      <th>requester_upvotes_plus_downvotes_at_request</th>\n",
       "      <th>requester_username</th>\n",
       "      <th>unix_timestamp_of_request</th>\n",
       "      <th>unix_timestamp_of_request_utc</th>\n",
       "      <th>data_type</th>\n",
       "    </tr>\n",
       "  </thead>\n",
       "  <tbody>\n",
       "    <tr>\n",
       "      <th>0</th>\n",
       "      <td>N/A</td>\n",
       "      <td>t3_i8iy4</td>\n",
       "      <td>Hey all! It's about 95 degrees here and our ki...</td>\n",
       "      <td>[request] pregger gf 95 degree house and no fo...</td>\n",
       "      <td>42.083866</td>\n",
       "      <td>0.0</td>\n",
       "      <td>57</td>\n",
       "      <td>0</td>\n",
       "      <td>10</td>\n",
       "      <td>0</td>\n",
       "      <td>16</td>\n",
       "      <td>[AskReddit, COents, Denver, DenverBroncos, Lib...</td>\n",
       "      <td>364</td>\n",
       "      <td>840</td>\n",
       "      <td>j_like</td>\n",
       "      <td>1308963419</td>\n",
       "      <td>1308959819</td>\n",
       "      <td>test</td>\n",
       "    </tr>\n",
       "    <tr>\n",
       "      <th>1</th>\n",
       "      <td>N/A</td>\n",
       "      <td>t3_1mfqi0</td>\n",
       "      <td>I didn't know a place like this exists! \\n\\nI ...</td>\n",
       "      <td>[Request] Lost my job day after labour day, st...</td>\n",
       "      <td>223.784537</td>\n",
       "      <td>0.0</td>\n",
       "      <td>145</td>\n",
       "      <td>0</td>\n",
       "      <td>36</td>\n",
       "      <td>0</td>\n",
       "      <td>29</td>\n",
       "      <td>[Android, AskReddit, GrandTheftAutoV, IAmA, Mi...</td>\n",
       "      <td>516</td>\n",
       "      <td>1448</td>\n",
       "      <td>0110110101101100</td>\n",
       "      <td>1379263523</td>\n",
       "      <td>1379259923</td>\n",
       "      <td>test</td>\n",
       "    </tr>\n",
       "  </tbody>\n",
       "</table>\n",
       "</div>"
      ],
      "text/plain": [
       "  giver_username_if_known request_id  \\\n",
       "0                     N/A   t3_i8iy4   \n",
       "1                     N/A  t3_1mfqi0   \n",
       "\n",
       "                             request_text_edit_aware  \\\n",
       "0  Hey all! It's about 95 degrees here and our ki...   \n",
       "1  I didn't know a place like this exists! \\n\\nI ...   \n",
       "\n",
       "                                       request_title  \\\n",
       "0  [request] pregger gf 95 degree house and no fo...   \n",
       "1  [Request] Lost my job day after labour day, st...   \n",
       "\n",
       "   requester_account_age_in_days_at_request  \\\n",
       "0                                 42.083866   \n",
       "1                                223.784537   \n",
       "\n",
       "   requester_days_since_first_post_on_raop_at_request  \\\n",
       "0                                                0.0    \n",
       "1                                                0.0    \n",
       "\n",
       "   requester_number_of_comments_at_request  \\\n",
       "0                                       57   \n",
       "1                                      145   \n",
       "\n",
       "   requester_number_of_comments_in_raop_at_request  \\\n",
       "0                                                0   \n",
       "1                                                0   \n",
       "\n",
       "   requester_number_of_posts_at_request  \\\n",
       "0                                    10   \n",
       "1                                    36   \n",
       "\n",
       "   requester_number_of_posts_on_raop_at_request  \\\n",
       "0                                             0   \n",
       "1                                             0   \n",
       "\n",
       "   requester_number_of_subreddits_at_request  \\\n",
       "0                                         16   \n",
       "1                                         29   \n",
       "\n",
       "                     requester_subreddits_at_request  \\\n",
       "0  [AskReddit, COents, Denver, DenverBroncos, Lib...   \n",
       "1  [Android, AskReddit, GrandTheftAutoV, IAmA, Mi...   \n",
       "\n",
       "   requester_upvotes_minus_downvotes_at_request  \\\n",
       "0                                           364   \n",
       "1                                           516   \n",
       "\n",
       "   requester_upvotes_plus_downvotes_at_request requester_username  \\\n",
       "0                                          840             j_like   \n",
       "1                                         1448   0110110101101100   \n",
       "\n",
       "   unix_timestamp_of_request  unix_timestamp_of_request_utc data_type  \n",
       "0                 1308963419                     1308959819      test  \n",
       "1                 1379263523                     1379259923      test  "
      ]
     },
     "execution_count": 6,
     "metadata": {},
     "output_type": "execute_result"
    }
   ],
   "source": [
    "data_test = pd.read_json('../Dataset/Random Acts Of Pizza/test.json')\n",
    "data_test['data_type'] = 'test'\n",
    "data_test.head(2)"
   ]
  },
  {
   "cell_type": "code",
   "execution_count": 7,
   "metadata": {
    "collapsed": true
   },
   "outputs": [],
   "source": [
    "not_present = []\n",
    "for i in data_train.columns:\n",
    "    if i not in data_test.columns:\n",
    "        not_present.append(i)\n",
    "data_train.drop(labels=not_present,axis=1,inplace=True)"
   ]
  },
  {
   "cell_type": "code",
   "execution_count": 8,
   "metadata": {
    "collapsed": false
   },
   "outputs": [
    {
     "data": {
      "text/plain": [
       "(5671, 18)"
      ]
     },
     "execution_count": 8,
     "metadata": {},
     "output_type": "execute_result"
    }
   ],
   "source": [
    "## Combining the training and testing data\n",
    "data = pd.concat([data_train,data_test],ignore_index=True)\n",
    "data_copy = data.copy()\n",
    "data.shape"
   ]
  },
  {
   "cell_type": "code",
   "execution_count": 9,
   "metadata": {
    "collapsed": false
   },
   "outputs": [
    {
     "data": {
      "text/html": [
       "<div>\n",
       "<table border=\"1\" class=\"dataframe\">\n",
       "  <thead>\n",
       "    <tr style=\"text-align: right;\">\n",
       "      <th></th>\n",
       "      <th>giver_username_if_known</th>\n",
       "      <th>request_id</th>\n",
       "      <th>request_text_edit_aware</th>\n",
       "      <th>request_title</th>\n",
       "      <th>requester_account_age_in_days_at_request</th>\n",
       "      <th>requester_days_since_first_post_on_raop_at_request</th>\n",
       "      <th>requester_number_of_comments_at_request</th>\n",
       "      <th>requester_number_of_comments_in_raop_at_request</th>\n",
       "      <th>requester_number_of_posts_at_request</th>\n",
       "      <th>requester_number_of_posts_on_raop_at_request</th>\n",
       "      <th>requester_number_of_subreddits_at_request</th>\n",
       "      <th>requester_subreddits_at_request</th>\n",
       "      <th>requester_upvotes_minus_downvotes_at_request</th>\n",
       "      <th>requester_upvotes_plus_downvotes_at_request</th>\n",
       "      <th>requester_username</th>\n",
       "      <th>unix_timestamp_of_request</th>\n",
       "      <th>unix_timestamp_of_request_utc</th>\n",
       "      <th>data_type</th>\n",
       "    </tr>\n",
       "  </thead>\n",
       "  <tbody>\n",
       "    <tr>\n",
       "      <th>0</th>\n",
       "      <td>N/A</td>\n",
       "      <td>t3_l25d7</td>\n",
       "      <td>Hi I am in need of food for my 4 children we a...</td>\n",
       "      <td>Request Colorado Springs Help Us Please</td>\n",
       "      <td>0.0000</td>\n",
       "      <td>0.0</td>\n",
       "      <td>0</td>\n",
       "      <td>0</td>\n",
       "      <td>0</td>\n",
       "      <td>0</td>\n",
       "      <td>0</td>\n",
       "      <td>[]</td>\n",
       "      <td>0</td>\n",
       "      <td>0</td>\n",
       "      <td>nickylvst</td>\n",
       "      <td>1317852607</td>\n",
       "      <td>1317849007</td>\n",
       "      <td>train</td>\n",
       "    </tr>\n",
       "    <tr>\n",
       "      <th>1</th>\n",
       "      <td>N/A</td>\n",
       "      <td>t3_rcb83</td>\n",
       "      <td>I spent the last money I had on gas today. Im ...</td>\n",
       "      <td>[Request] California, No cash and I could use ...</td>\n",
       "      <td>501.1111</td>\n",
       "      <td>0.0</td>\n",
       "      <td>0</td>\n",
       "      <td>0</td>\n",
       "      <td>15</td>\n",
       "      <td>0</td>\n",
       "      <td>12</td>\n",
       "      <td>[AskReddit, Eve, IAmA, MontereyBay, RandomKind...</td>\n",
       "      <td>34</td>\n",
       "      <td>116</td>\n",
       "      <td>fohacidal</td>\n",
       "      <td>1332652424</td>\n",
       "      <td>1332648824</td>\n",
       "      <td>train</td>\n",
       "    </tr>\n",
       "  </tbody>\n",
       "</table>\n",
       "</div>"
      ],
      "text/plain": [
       "  giver_username_if_known request_id  \\\n",
       "0                     N/A   t3_l25d7   \n",
       "1                     N/A   t3_rcb83   \n",
       "\n",
       "                             request_text_edit_aware  \\\n",
       "0  Hi I am in need of food for my 4 children we a...   \n",
       "1  I spent the last money I had on gas today. Im ...   \n",
       "\n",
       "                                       request_title  \\\n",
       "0            Request Colorado Springs Help Us Please   \n",
       "1  [Request] California, No cash and I could use ...   \n",
       "\n",
       "   requester_account_age_in_days_at_request  \\\n",
       "0                                    0.0000   \n",
       "1                                  501.1111   \n",
       "\n",
       "   requester_days_since_first_post_on_raop_at_request  \\\n",
       "0                                                0.0    \n",
       "1                                                0.0    \n",
       "\n",
       "   requester_number_of_comments_at_request  \\\n",
       "0                                        0   \n",
       "1                                        0   \n",
       "\n",
       "   requester_number_of_comments_in_raop_at_request  \\\n",
       "0                                                0   \n",
       "1                                                0   \n",
       "\n",
       "   requester_number_of_posts_at_request  \\\n",
       "0                                     0   \n",
       "1                                    15   \n",
       "\n",
       "   requester_number_of_posts_on_raop_at_request  \\\n",
       "0                                             0   \n",
       "1                                             0   \n",
       "\n",
       "   requester_number_of_subreddits_at_request  \\\n",
       "0                                          0   \n",
       "1                                         12   \n",
       "\n",
       "                     requester_subreddits_at_request  \\\n",
       "0                                                 []   \n",
       "1  [AskReddit, Eve, IAmA, MontereyBay, RandomKind...   \n",
       "\n",
       "   requester_upvotes_minus_downvotes_at_request  \\\n",
       "0                                             0   \n",
       "1                                            34   \n",
       "\n",
       "   requester_upvotes_plus_downvotes_at_request requester_username  \\\n",
       "0                                            0          nickylvst   \n",
       "1                                          116          fohacidal   \n",
       "\n",
       "   unix_timestamp_of_request  unix_timestamp_of_request_utc data_type  \n",
       "0                 1317852607                     1317849007     train  \n",
       "1                 1332652424                     1332648824     train  "
      ]
     },
     "execution_count": 9,
     "metadata": {},
     "output_type": "execute_result"
    }
   ],
   "source": [
    "data.head(2)"
   ]
  },
  {
   "cell_type": "code",
   "execution_count": 10,
   "metadata": {
    "collapsed": false
   },
   "outputs": [],
   "source": [
    "# Author: Olivier Grisel <olivier.grisel@ensta.org>\n",
    "#         Lars Buitinck <L.J.Buitinck@uva.nl>\n",
    "#         Chyi-Kwei Yau <chyikwei.yau@gmail.com>\n",
    "# License: BSD 3 clause\n",
    "\n",
    "from time import time\n",
    "\n",
    "from sklearn.feature_extraction.text import TfidfVectorizer, CountVectorizer\n",
    "from sklearn.decomposition import NMF\n",
    "\n",
    "n_samples = 2000\n",
    "n_features = 1000\n",
    "n_topics = 20\n",
    "n_top_words = 20\n",
    "\n",
    "def applyNMF(data_samples):\n",
    "    print(\"Extracting tf-idf features for NMF...\")\n",
    "    tfidf_vectorizer = TfidfVectorizer(max_df=1.0,min_df=1,stop_words='english')\n",
    "    tfidf = tfidf_vectorizer.fit_transform(data_samples)\n",
    "    print(\"Fitting the NMF model with tf-idf features,\"\n",
    "      \"n_samples=%d and n_features=%d...\"\n",
    "      % (n_samples, n_features))\n",
    "    nmf = NMF(n_components=n_topics, random_state=1, alpha=.1, l1_ratio=.5).fit(tfidf)\n",
    "    return nmf.transform(tfidf)"
   ]
  },
  {
   "cell_type": "code",
   "execution_count": 11,
   "metadata": {
    "collapsed": false
   },
   "outputs": [
    {
     "name": "stdout",
     "output_type": "stream",
     "text": [
      "Extracting tf-idf features for NMF...\n",
      "Fitting the NMF model with tf-idf features,n_samples=2000 and n_features=1000...\n",
      "(5671, 20)\n"
     ]
    }
   ],
   "source": [
    "topics = applyNMF(data['request_text_edit_aware'])\n",
    "print(topics.shape)"
   ]
  },
  {
   "cell_type": "code",
   "execution_count": 12,
   "metadata": {
    "collapsed": true
   },
   "outputs": [],
   "source": [
    "topics_vec = np.argmax(topics,axis=1)"
   ]
  },
  {
   "cell_type": "code",
   "execution_count": 13,
   "metadata": {
    "collapsed": false
   },
   "outputs": [
    {
     "data": {
      "text/plain": [
       "0     2\n",
       "1    14\n",
       "2     0\n",
       "3     3\n",
       "4     4\n",
       "Name: topics, dtype: int64"
      ]
     },
     "execution_count": 13,
     "metadata": {},
     "output_type": "execute_result"
    }
   ],
   "source": [
    "data['topics'] = topics_vec\n",
    "data['topics'].head()"
   ]
  },
  {
   "cell_type": "markdown",
   "metadata": {},
   "source": [
    "## Finding the Success Rate of Important Features"
   ]
  },
  {
   "cell_type": "code",
   "execution_count": 14,
   "metadata": {
    "collapsed": false
   },
   "outputs": [
    {
     "name": "stdout",
     "output_type": "stream",
     "text": [
      "[(0, 1885), (18, 360), (11, 303), (1, 274), (5, 236), (6, 209), (19, 204), (4, 197), (17, 194), (8, 181)]\n"
     ]
    }
   ],
   "source": [
    "## Finding the nature of the topics generated\n",
    "from collections import Counter\n",
    "imp_topics = Counter(topics_vec).most_common(10)\n",
    "print imp_topics"
   ]
  },
  {
   "cell_type": "code",
   "execution_count": 15,
   "metadata": {
    "collapsed": true
   },
   "outputs": [],
   "source": [
    "def find_topic(topic,remove_verbs=True):\n",
    "    requests = data_copy[data['topics'] == imp_topics[topic][0]]['request_text_edit_aware']\n",
    "    chain_requests = ''\n",
    "    for request in requests:\n",
    "        chain_requests += ('. '+request)\n",
    "    chain_requests = re.sub('^[a-zA-Z]',' ',chain_requests)\n",
    "    words = [word for word in chain_requests.split() if word not in stopwords.words(\"english\")]\n",
    "    if remove_verbs:\n",
    "        words = [word for word in words if word in nouns]\n",
    "    return Counter(words).most_common(100)"
   ]
  },
  {
   "cell_type": "code",
   "execution_count": 16,
   "metadata": {
    "collapsed": false
   },
   "outputs": [],
   "source": [
    "topic_words = []\n",
    "for i in range(len(imp_topics)):\n",
    "    words = find_topic(i)\n",
    "    words = ' '.join([word[0] for word in words])\n",
    "    topic_words.append(words)"
   ]
  },
  {
   "cell_type": "code",
   "execution_count": 17,
   "metadata": {
    "collapsed": false
   },
   "outputs": [
    {
     "data": {
      "text/html": [
       "<div>\n",
       "<table border=\"1\" class=\"dataframe\">\n",
       "  <thead>\n",
       "    <tr style=\"text-align: right;\">\n",
       "      <th></th>\n",
       "      <th>giver_username_if_known</th>\n",
       "      <th>request_id</th>\n",
       "      <th>request_text_edit_aware</th>\n",
       "      <th>request_title</th>\n",
       "      <th>requester_account_age_in_days_at_request</th>\n",
       "      <th>requester_days_since_first_post_on_raop_at_request</th>\n",
       "      <th>requester_number_of_comments_at_request</th>\n",
       "      <th>requester_number_of_comments_in_raop_at_request</th>\n",
       "      <th>requester_number_of_posts_at_request</th>\n",
       "      <th>requester_number_of_posts_on_raop_at_request</th>\n",
       "      <th>requester_number_of_subreddits_at_request</th>\n",
       "      <th>requester_subreddits_at_request</th>\n",
       "      <th>requester_upvotes_minus_downvotes_at_request</th>\n",
       "      <th>requester_upvotes_plus_downvotes_at_request</th>\n",
       "      <th>requester_username</th>\n",
       "      <th>unix_timestamp_of_request</th>\n",
       "      <th>unix_timestamp_of_request_utc</th>\n",
       "      <th>data_type</th>\n",
       "      <th>topics</th>\n",
       "    </tr>\n",
       "  </thead>\n",
       "  <tbody>\n",
       "    <tr>\n",
       "      <th>0</th>\n",
       "      <td>N/A</td>\n",
       "      <td>t3_l25d7</td>\n",
       "      <td>Hi I am in need of food for my 4 children we a...</td>\n",
       "      <td>Request Colorado Springs Help Us Please</td>\n",
       "      <td>0.0000</td>\n",
       "      <td>0.0</td>\n",
       "      <td>0</td>\n",
       "      <td>0</td>\n",
       "      <td>0</td>\n",
       "      <td>0</td>\n",
       "      <td>0</td>\n",
       "      <td>[]</td>\n",
       "      <td>0</td>\n",
       "      <td>0</td>\n",
       "      <td>nickylvst</td>\n",
       "      <td>1317852607</td>\n",
       "      <td>1317849007</td>\n",
       "      <td>train</td>\n",
       "      <td>2</td>\n",
       "    </tr>\n",
       "    <tr>\n",
       "      <th>1</th>\n",
       "      <td>N/A</td>\n",
       "      <td>t3_rcb83</td>\n",
       "      <td>I spent the last money I had on gas today. Im ...</td>\n",
       "      <td>[Request] California, No cash and I could use ...</td>\n",
       "      <td>501.1111</td>\n",
       "      <td>0.0</td>\n",
       "      <td>0</td>\n",
       "      <td>0</td>\n",
       "      <td>15</td>\n",
       "      <td>0</td>\n",
       "      <td>12</td>\n",
       "      <td>[AskReddit, Eve, IAmA, MontereyBay, RandomKind...</td>\n",
       "      <td>34</td>\n",
       "      <td>116</td>\n",
       "      <td>fohacidal</td>\n",
       "      <td>1332652424</td>\n",
       "      <td>1332648824</td>\n",
       "      <td>train</td>\n",
       "      <td>14</td>\n",
       "    </tr>\n",
       "  </tbody>\n",
       "</table>\n",
       "</div>"
      ],
      "text/plain": [
       "  giver_username_if_known request_id  \\\n",
       "0                     N/A   t3_l25d7   \n",
       "1                     N/A   t3_rcb83   \n",
       "\n",
       "                             request_text_edit_aware  \\\n",
       "0  Hi I am in need of food for my 4 children we a...   \n",
       "1  I spent the last money I had on gas today. Im ...   \n",
       "\n",
       "                                       request_title  \\\n",
       "0            Request Colorado Springs Help Us Please   \n",
       "1  [Request] California, No cash and I could use ...   \n",
       "\n",
       "   requester_account_age_in_days_at_request  \\\n",
       "0                                    0.0000   \n",
       "1                                  501.1111   \n",
       "\n",
       "   requester_days_since_first_post_on_raop_at_request  \\\n",
       "0                                                0.0    \n",
       "1                                                0.0    \n",
       "\n",
       "   requester_number_of_comments_at_request  \\\n",
       "0                                        0   \n",
       "1                                        0   \n",
       "\n",
       "   requester_number_of_comments_in_raop_at_request  \\\n",
       "0                                                0   \n",
       "1                                                0   \n",
       "\n",
       "   requester_number_of_posts_at_request  \\\n",
       "0                                     0   \n",
       "1                                    15   \n",
       "\n",
       "   requester_number_of_posts_on_raop_at_request  \\\n",
       "0                                             0   \n",
       "1                                             0   \n",
       "\n",
       "   requester_number_of_subreddits_at_request  \\\n",
       "0                                          0   \n",
       "1                                         12   \n",
       "\n",
       "                     requester_subreddits_at_request  \\\n",
       "0                                                 []   \n",
       "1  [AskReddit, Eve, IAmA, MontereyBay, RandomKind...   \n",
       "\n",
       "   requester_upvotes_minus_downvotes_at_request  \\\n",
       "0                                             0   \n",
       "1                                            34   \n",
       "\n",
       "   requester_upvotes_plus_downvotes_at_request requester_username  \\\n",
       "0                                            0          nickylvst   \n",
       "1                                          116          fohacidal   \n",
       "\n",
       "   unix_timestamp_of_request  unix_timestamp_of_request_utc data_type  topics  \n",
       "0                 1317852607                     1317849007     train       2  \n",
       "1                 1332652424                     1332648824     train      14  "
      ]
     },
     "execution_count": 17,
     "metadata": {},
     "output_type": "execute_result"
    }
   ],
   "source": [
    "train = data[data['data_type'] == 'train']\n",
    "train.head(2)"
   ]
  },
  {
   "cell_type": "code",
   "execution_count": 18,
   "metadata": {
    "collapsed": false
   },
   "outputs": [
    {
     "data": {
      "text/html": [
       "<div>\n",
       "<table border=\"1\" class=\"dataframe\">\n",
       "  <thead>\n",
       "    <tr style=\"text-align: right;\">\n",
       "      <th></th>\n",
       "      <th>giver_username_if_known</th>\n",
       "      <th>request_id</th>\n",
       "      <th>request_text_edit_aware</th>\n",
       "      <th>request_title</th>\n",
       "      <th>requester_account_age_in_days_at_request</th>\n",
       "      <th>requester_days_since_first_post_on_raop_at_request</th>\n",
       "      <th>requester_number_of_comments_at_request</th>\n",
       "      <th>requester_number_of_comments_in_raop_at_request</th>\n",
       "      <th>requester_number_of_posts_at_request</th>\n",
       "      <th>requester_number_of_posts_on_raop_at_request</th>\n",
       "      <th>requester_number_of_subreddits_at_request</th>\n",
       "      <th>requester_subreddits_at_request</th>\n",
       "      <th>requester_upvotes_minus_downvotes_at_request</th>\n",
       "      <th>requester_upvotes_plus_downvotes_at_request</th>\n",
       "      <th>requester_username</th>\n",
       "      <th>unix_timestamp_of_request</th>\n",
       "      <th>unix_timestamp_of_request_utc</th>\n",
       "      <th>data_type</th>\n",
       "      <th>topics</th>\n",
       "      <th>received</th>\n",
       "    </tr>\n",
       "  </thead>\n",
       "  <tbody>\n",
       "    <tr>\n",
       "      <th>0</th>\n",
       "      <td>N/A</td>\n",
       "      <td>t3_l25d7</td>\n",
       "      <td>Hi I am in need of food for my 4 children we a...</td>\n",
       "      <td>Request Colorado Springs Help Us Please</td>\n",
       "      <td>0.0000</td>\n",
       "      <td>0.0</td>\n",
       "      <td>0</td>\n",
       "      <td>0</td>\n",
       "      <td>0</td>\n",
       "      <td>0</td>\n",
       "      <td>0</td>\n",
       "      <td>[]</td>\n",
       "      <td>0</td>\n",
       "      <td>0</td>\n",
       "      <td>nickylvst</td>\n",
       "      <td>1317852607</td>\n",
       "      <td>1317849007</td>\n",
       "      <td>train</td>\n",
       "      <td>2</td>\n",
       "      <td>False</td>\n",
       "    </tr>\n",
       "    <tr>\n",
       "      <th>1</th>\n",
       "      <td>N/A</td>\n",
       "      <td>t3_rcb83</td>\n",
       "      <td>I spent the last money I had on gas today. Im ...</td>\n",
       "      <td>[Request] California, No cash and I could use ...</td>\n",
       "      <td>501.1111</td>\n",
       "      <td>0.0</td>\n",
       "      <td>0</td>\n",
       "      <td>0</td>\n",
       "      <td>15</td>\n",
       "      <td>0</td>\n",
       "      <td>12</td>\n",
       "      <td>[AskReddit, Eve, IAmA, MontereyBay, RandomKind...</td>\n",
       "      <td>34</td>\n",
       "      <td>116</td>\n",
       "      <td>fohacidal</td>\n",
       "      <td>1332652424</td>\n",
       "      <td>1332648824</td>\n",
       "      <td>train</td>\n",
       "      <td>14</td>\n",
       "      <td>False</td>\n",
       "    </tr>\n",
       "  </tbody>\n",
       "</table>\n",
       "</div>"
      ],
      "text/plain": [
       "  giver_username_if_known request_id  \\\n",
       "0                     N/A   t3_l25d7   \n",
       "1                     N/A   t3_rcb83   \n",
       "\n",
       "                             request_text_edit_aware  \\\n",
       "0  Hi I am in need of food for my 4 children we a...   \n",
       "1  I spent the last money I had on gas today. Im ...   \n",
       "\n",
       "                                       request_title  \\\n",
       "0            Request Colorado Springs Help Us Please   \n",
       "1  [Request] California, No cash and I could use ...   \n",
       "\n",
       "   requester_account_age_in_days_at_request  \\\n",
       "0                                    0.0000   \n",
       "1                                  501.1111   \n",
       "\n",
       "   requester_days_since_first_post_on_raop_at_request  \\\n",
       "0                                                0.0    \n",
       "1                                                0.0    \n",
       "\n",
       "   requester_number_of_comments_at_request  \\\n",
       "0                                        0   \n",
       "1                                        0   \n",
       "\n",
       "   requester_number_of_comments_in_raop_at_request  \\\n",
       "0                                                0   \n",
       "1                                                0   \n",
       "\n",
       "   requester_number_of_posts_at_request  \\\n",
       "0                                     0   \n",
       "1                                    15   \n",
       "\n",
       "   requester_number_of_posts_on_raop_at_request  \\\n",
       "0                                             0   \n",
       "1                                             0   \n",
       "\n",
       "   requester_number_of_subreddits_at_request  \\\n",
       "0                                          0   \n",
       "1                                         12   \n",
       "\n",
       "                     requester_subreddits_at_request  \\\n",
       "0                                                 []   \n",
       "1  [AskReddit, Eve, IAmA, MontereyBay, RandomKind...   \n",
       "\n",
       "   requester_upvotes_minus_downvotes_at_request  \\\n",
       "0                                             0   \n",
       "1                                            34   \n",
       "\n",
       "   requester_upvotes_plus_downvotes_at_request requester_username  \\\n",
       "0                                            0          nickylvst   \n",
       "1                                          116          fohacidal   \n",
       "\n",
       "   unix_timestamp_of_request  unix_timestamp_of_request_utc data_type  topics  \\\n",
       "0                 1317852607                     1317849007     train       2   \n",
       "1                 1332652424                     1332648824     train      14   \n",
       "\n",
       "  received  \n",
       "0    False  \n",
       "1    False  "
      ]
     },
     "execution_count": 18,
     "metadata": {},
     "output_type": "execute_result"
    }
   ],
   "source": [
    "train['received'] = y\n",
    "train.head(2)"
   ]
  },
  {
   "cell_type": "code",
   "execution_count": 19,
   "metadata": {
    "collapsed": false
   },
   "outputs": [],
   "source": [
    "topic_df = []\n",
    "for i in range(len(imp_topics)):\n",
    "    topic_df.append([imp_topics[i][0],topic_words[i],100*float(train[train['topics'] == imp_topics[i][0]]['received'].sum())\\\n",
    "                     /len(train[train['topics'] == imp_topics[i][0]]['received'])])"
   ]
  },
  {
   "cell_type": "code",
   "execution_count": 20,
   "metadata": {
    "collapsed": false
   },
   "outputs": [
    {
     "data": {
      "text/html": [
       "<div>\n",
       "<table border=\"1\" class=\"dataframe\">\n",
       "  <thead>\n",
       "    <tr style=\"text-align: right;\">\n",
       "      <th></th>\n",
       "      <th>Topic</th>\n",
       "      <th>Words</th>\n",
       "      <th>Success Rate</th>\n",
       "    </tr>\n",
       "  </thead>\n",
       "  <tbody>\n",
       "    <tr>\n",
       "      <th>0</th>\n",
       "      <td>0</td>\n",
       "      <td>pizza get like money know work time last one g...</td>\n",
       "      <td>26.206385</td>\n",
       "    </tr>\n",
       "    <tr>\n",
       "      <th>1</th>\n",
       "      <td>18</td>\n",
       "      <td>job get pizza last money food first week back ...</td>\n",
       "      <td>26.819923</td>\n",
       "    </tr>\n",
       "    <tr>\n",
       "      <th>2</th>\n",
       "      <td>11</td>\n",
       "      <td>pizza get like money last know food love one r...</td>\n",
       "      <td>35.874439</td>\n",
       "    </tr>\n",
       "    <tr>\n",
       "      <th>3</th>\n",
       "      <td>1</td>\n",
       "      <td>forward get pizza money love last back promise...</td>\n",
       "      <td>30.303030</td>\n",
       "    </tr>\n",
       "    <tr>\n",
       "      <th>4</th>\n",
       "      <td>5</td>\n",
       "      <td>food money get pizza last house little back go...</td>\n",
       "      <td>19.875776</td>\n",
       "    </tr>\n",
       "    <tr>\n",
       "      <th>5</th>\n",
       "      <td>6</td>\n",
       "      <td>pizza tonight get love food like dinner one to...</td>\n",
       "      <td>22.516556</td>\n",
       "    </tr>\n",
       "    <tr>\n",
       "      <th>6</th>\n",
       "      <td>19</td>\n",
       "      <td>college student pizza get money love last much...</td>\n",
       "      <td>24.489796</td>\n",
       "    </tr>\n",
       "    <tr>\n",
       "      <th>7</th>\n",
       "      <td>4</td>\n",
       "      <td>love pizza get money work right back much go d...</td>\n",
       "      <td>11.510791</td>\n",
       "    </tr>\n",
       "    <tr>\n",
       "      <th>8</th>\n",
       "      <td>17</td>\n",
       "      <td>pizza use right money get food much like go la...</td>\n",
       "      <td>22.656250</td>\n",
       "    </tr>\n",
       "    <tr>\n",
       "      <th>9</th>\n",
       "      <td>8</td>\n",
       "      <td>get pizza forward money food friday last back ...</td>\n",
       "      <td>22.400000</td>\n",
       "    </tr>\n",
       "  </tbody>\n",
       "</table>\n",
       "</div>"
      ],
      "text/plain": [
       "   Topic                                              Words  Success Rate\n",
       "0      0  pizza get like money know work time last one g...     26.206385\n",
       "1     18  job get pizza last money food first week back ...     26.819923\n",
       "2     11  pizza get like money last know food love one r...     35.874439\n",
       "3      1  forward get pizza money love last back promise...     30.303030\n",
       "4      5  food money get pizza last house little back go...     19.875776\n",
       "5      6  pizza tonight get love food like dinner one to...     22.516556\n",
       "6     19  college student pizza get money love last much...     24.489796\n",
       "7      4  love pizza get money work right back much go d...     11.510791\n",
       "8     17  pizza use right money get food much like go la...     22.656250\n",
       "9      8  get pizza forward money food friday last back ...     22.400000"
      ]
     },
     "execution_count": 20,
     "metadata": {},
     "output_type": "execute_result"
    }
   ],
   "source": [
    "topic_df = pd.DataFrame(topic_df,columns = ['Topic','Words','Success Rate'])\n",
    "topic_df"
   ]
  },
  {
   "cell_type": "markdown",
   "metadata": {},
   "source": [
    "### Success of Different Topics"
   ]
  },
  {
   "cell_type": "code",
   "execution_count": 21,
   "metadata": {
    "collapsed": false
   },
   "outputs": [
    {
     "data": {
      "image/png": "[encoded data removed]",
      "text/plain": [
       "<matplotlib.figure.Figure at 0x13261e550>"
      ]
     },
     "metadata": {},
     "output_type": "display_data"
    }
   ],
   "source": [
    "topic_df.plot(kind='bar',y='Success Rate',x='Topic')\n",
    "plt.xlabel('Topic')\n",
    "plt.ylabel('Success Rate')\n",
    "plt.title('Success Rate vs Topics')\n",
    "plt.show()"
   ]
  },
  {
   "cell_type": "markdown",
   "metadata": {},
   "source": [
    "### Success correlation with the length of request"
   ]
  },
  {
   "cell_type": "code",
   "execution_count": 22,
   "metadata": {
    "collapsed": false
   },
   "outputs": [
    {
     "data": {
      "text/html": [
       "<div>\n",
       "<table border=\"1\" class=\"dataframe\">\n",
       "  <thead>\n",
       "    <tr style=\"text-align: right;\">\n",
       "      <th></th>\n",
       "      <th>giver_username_if_known</th>\n",
       "      <th>request_id</th>\n",
       "      <th>request_text_edit_aware</th>\n",
       "      <th>request_title</th>\n",
       "      <th>requester_account_age_in_days_at_request</th>\n",
       "      <th>requester_days_since_first_post_on_raop_at_request</th>\n",
       "      <th>requester_number_of_comments_at_request</th>\n",
       "      <th>requester_number_of_comments_in_raop_at_request</th>\n",
       "      <th>requester_number_of_posts_at_request</th>\n",
       "      <th>requester_number_of_posts_on_raop_at_request</th>\n",
       "      <th>requester_number_of_subreddits_at_request</th>\n",
       "      <th>requester_subreddits_at_request</th>\n",
       "      <th>requester_upvotes_minus_downvotes_at_request</th>\n",
       "      <th>requester_upvotes_plus_downvotes_at_request</th>\n",
       "      <th>requester_username</th>\n",
       "      <th>unix_timestamp_of_request</th>\n",
       "      <th>unix_timestamp_of_request_utc</th>\n",
       "      <th>data_type</th>\n",
       "      <th>topics</th>\n",
       "      <th>received</th>\n",
       "    </tr>\n",
       "  </thead>\n",
       "  <tbody>\n",
       "    <tr>\n",
       "      <th>4039</th>\n",
       "      <td>N/A</td>\n",
       "      <td>t3_189pw1</td>\n",
       "      <td>Like the title says, had to pay an unexpected ...</td>\n",
       "      <td>[Request] USA WA. Unexpected bill, couldn't go...</td>\n",
       "      <td>572.314942</td>\n",
       "      <td>0.0</td>\n",
       "      <td>523</td>\n",
       "      <td>0</td>\n",
       "      <td>20</td>\n",
       "      <td>0</td>\n",
       "      <td>28</td>\n",
       "      <td>[AskReddit, Drugs, IAmA, LongDistance, Minecra...</td>\n",
       "      <td>3212</td>\n",
       "      <td>8424</td>\n",
       "      <td>Ellebean</td>\n",
       "      <td>1360535063</td>\n",
       "      <td>1360535063</td>\n",
       "      <td>train</td>\n",
       "      <td>8</td>\n",
       "      <td>False</td>\n",
       "    </tr>\n",
       "  </tbody>\n",
       "</table>\n",
       "</div>"
      ],
      "text/plain": [
       "     giver_username_if_known request_id  \\\n",
       "4039                     N/A  t3_189pw1   \n",
       "\n",
       "                                request_text_edit_aware  \\\n",
       "4039  Like the title says, had to pay an unexpected ...   \n",
       "\n",
       "                                          request_title  \\\n",
       "4039  [Request] USA WA. Unexpected bill, couldn't go...   \n",
       "\n",
       "      requester_account_age_in_days_at_request  \\\n",
       "4039                                572.314942   \n",
       "\n",
       "      requester_days_since_first_post_on_raop_at_request  \\\n",
       "4039                                                0.0    \n",
       "\n",
       "      requester_number_of_comments_at_request  \\\n",
       "4039                                      523   \n",
       "\n",
       "      requester_number_of_comments_in_raop_at_request  \\\n",
       "4039                                                0   \n",
       "\n",
       "      requester_number_of_posts_at_request  \\\n",
       "4039                                    20   \n",
       "\n",
       "      requester_number_of_posts_on_raop_at_request  \\\n",
       "4039                                             0   \n",
       "\n",
       "      requester_number_of_subreddits_at_request  \\\n",
       "4039                                         28   \n",
       "\n",
       "                        requester_subreddits_at_request  \\\n",
       "4039  [AskReddit, Drugs, IAmA, LongDistance, Minecra...   \n",
       "\n",
       "      requester_upvotes_minus_downvotes_at_request  \\\n",
       "4039                                          3212   \n",
       "\n",
       "      requester_upvotes_plus_downvotes_at_request requester_username  \\\n",
       "4039                                         8424           Ellebean   \n",
       "\n",
       "      unix_timestamp_of_request  unix_timestamp_of_request_utc data_type  \\\n",
       "4039                 1360535063                     1360535063     train   \n",
       "\n",
       "      topics received  \n",
       "4039       8    False  "
      ]
     },
     "execution_count": 22,
     "metadata": {},
     "output_type": "execute_result"
    }
   ],
   "source": [
    "train.dropna(inplace=True,axis=0)\n",
    "train.tail(1)"
   ]
  },
  {
   "cell_type": "code",
   "execution_count": 23,
   "metadata": {
    "collapsed": false
   },
   "outputs": [
    {
     "data": {
      "text/html": [
       "<div>\n",
       "<table border=\"1\" class=\"dataframe\">\n",
       "  <thead>\n",
       "    <tr style=\"text-align: right;\">\n",
       "      <th></th>\n",
       "      <th>giver_username_if_known</th>\n",
       "      <th>request_id</th>\n",
       "      <th>request_text_edit_aware</th>\n",
       "      <th>request_title</th>\n",
       "      <th>requester_account_age_in_days_at_request</th>\n",
       "      <th>requester_days_since_first_post_on_raop_at_request</th>\n",
       "      <th>requester_number_of_comments_at_request</th>\n",
       "      <th>requester_number_of_comments_in_raop_at_request</th>\n",
       "      <th>requester_number_of_posts_at_request</th>\n",
       "      <th>requester_number_of_posts_on_raop_at_request</th>\n",
       "      <th>...</th>\n",
       "      <th>requester_subreddits_at_request</th>\n",
       "      <th>requester_upvotes_minus_downvotes_at_request</th>\n",
       "      <th>requester_upvotes_plus_downvotes_at_request</th>\n",
       "      <th>requester_username</th>\n",
       "      <th>unix_timestamp_of_request</th>\n",
       "      <th>unix_timestamp_of_request_utc</th>\n",
       "      <th>data_type</th>\n",
       "      <th>topics</th>\n",
       "      <th>received</th>\n",
       "      <th>request_length</th>\n",
       "    </tr>\n",
       "  </thead>\n",
       "  <tbody>\n",
       "    <tr>\n",
       "      <th>0</th>\n",
       "      <td>N/A</td>\n",
       "      <td>t3_l25d7</td>\n",
       "      <td>Hi I am in need of food for my 4 children we a...</td>\n",
       "      <td>Request Colorado Springs Help Us Please</td>\n",
       "      <td>0.0000</td>\n",
       "      <td>0.0</td>\n",
       "      <td>0</td>\n",
       "      <td>0</td>\n",
       "      <td>0</td>\n",
       "      <td>0</td>\n",
       "      <td>...</td>\n",
       "      <td>[]</td>\n",
       "      <td>0</td>\n",
       "      <td>0</td>\n",
       "      <td>nickylvst</td>\n",
       "      <td>1317852607</td>\n",
       "      <td>1317849007</td>\n",
       "      <td>train</td>\n",
       "      <td>2</td>\n",
       "      <td>False</td>\n",
       "      <td>67</td>\n",
       "    </tr>\n",
       "    <tr>\n",
       "      <th>1</th>\n",
       "      <td>N/A</td>\n",
       "      <td>t3_rcb83</td>\n",
       "      <td>I spent the last money I had on gas today. Im ...</td>\n",
       "      <td>[Request] California, No cash and I could use ...</td>\n",
       "      <td>501.1111</td>\n",
       "      <td>0.0</td>\n",
       "      <td>0</td>\n",
       "      <td>0</td>\n",
       "      <td>15</td>\n",
       "      <td>0</td>\n",
       "      <td>...</td>\n",
       "      <td>[AskReddit, Eve, IAmA, MontereyBay, RandomKind...</td>\n",
       "      <td>34</td>\n",
       "      <td>116</td>\n",
       "      <td>fohacidal</td>\n",
       "      <td>1332652424</td>\n",
       "      <td>1332648824</td>\n",
       "      <td>train</td>\n",
       "      <td>14</td>\n",
       "      <td>False</td>\n",
       "      <td>16</td>\n",
       "    </tr>\n",
       "  </tbody>\n",
       "</table>\n",
       "<p>2 rows × 21 columns</p>\n",
       "</div>"
      ],
      "text/plain": [
       "  giver_username_if_known request_id  \\\n",
       "0                     N/A   t3_l25d7   \n",
       "1                     N/A   t3_rcb83   \n",
       "\n",
       "                             request_text_edit_aware  \\\n",
       "0  Hi I am in need of food for my 4 children we a...   \n",
       "1  I spent the last money I had on gas today. Im ...   \n",
       "\n",
       "                                       request_title  \\\n",
       "0            Request Colorado Springs Help Us Please   \n",
       "1  [Request] California, No cash and I could use ...   \n",
       "\n",
       "   requester_account_age_in_days_at_request  \\\n",
       "0                                    0.0000   \n",
       "1                                  501.1111   \n",
       "\n",
       "   requester_days_since_first_post_on_raop_at_request  \\\n",
       "0                                                0.0    \n",
       "1                                                0.0    \n",
       "\n",
       "   requester_number_of_comments_at_request  \\\n",
       "0                                        0   \n",
       "1                                        0   \n",
       "\n",
       "   requester_number_of_comments_in_raop_at_request  \\\n",
       "0                                                0   \n",
       "1                                                0   \n",
       "\n",
       "   requester_number_of_posts_at_request  \\\n",
       "0                                     0   \n",
       "1                                    15   \n",
       "\n",
       "   requester_number_of_posts_on_raop_at_request      ...        \\\n",
       "0                                             0      ...         \n",
       "1                                             0      ...         \n",
       "\n",
       "                     requester_subreddits_at_request  \\\n",
       "0                                                 []   \n",
       "1  [AskReddit, Eve, IAmA, MontereyBay, RandomKind...   \n",
       "\n",
       "  requester_upvotes_minus_downvotes_at_request  \\\n",
       "0                                            0   \n",
       "1                                           34   \n",
       "\n",
       "   requester_upvotes_plus_downvotes_at_request  requester_username  \\\n",
       "0                                            0           nickylvst   \n",
       "1                                          116           fohacidal   \n",
       "\n",
       "  unix_timestamp_of_request  unix_timestamp_of_request_utc  data_type topics  \\\n",
       "0                1317852607                     1317849007      train      2   \n",
       "1                1332652424                     1332648824      train     14   \n",
       "\n",
       "   received request_length  \n",
       "0     False             67  \n",
       "1     False             16  \n",
       "\n",
       "[2 rows x 21 columns]"
      ]
     },
     "execution_count": 23,
     "metadata": {},
     "output_type": "execute_result"
    }
   ],
   "source": [
    "train['request_length'] = [len(x.split()) for x in train['request_text_edit_aware']]\n",
    "train.head(2)"
   ]
  },
  {
   "cell_type": "code",
   "execution_count": 24,
   "metadata": {
    "collapsed": false
   },
   "outputs": [],
   "source": [
    "length = []\n",
    "def length_success(topic):    \n",
    "    max_length = train[train['topics'] == topic]['request_length'].max()\n",
    "    min_length = train[train['topics'] == topic]['request_length'].min()\n",
    "    bin_size = (max_length - min_length)/20\n",
    "    df = train[train['topics'] == topic]\n",
    "    for i in range(10):\n",
    "        df_one = df[(df['request_length'] >= min_length) & (df['request_length'] < min_length+bin_size)]\n",
    "        df_new = df_one[df_one['received'] == True]\n",
    "        if(len(df_one) == 0):\n",
    "            df_one = ['a']\n",
    "        length.append([topic,min_length,min_length+bin_size,float(len(df_new))/len(df_one)])\n",
    "        min_length = min_length + bin_size"
   ]
  },
  {
   "cell_type": "code",
   "execution_count": 25,
   "metadata": {
    "collapsed": false
   },
   "outputs": [
    {
     "name": "stdout",
     "output_type": "stream",
     "text": [
      "Calculating length probabilities for 0 topic..\n",
      "Calculating length probabilities for 18 topic..\n",
      "Calculating length probabilities for 11 topic..\n",
      "Calculating length probabilities for 1 topic..\n",
      "Calculating length probabilities for 5 topic..\n",
      "Calculating length probabilities for 6 topic..\n",
      "Calculating length probabilities for 19 topic..\n",
      "Calculating length probabilities for 4 topic..\n",
      "Calculating length probabilities for 17 topic..\n",
      "Calculating length probabilities for 8 topic..\n"
     ]
    }
   ],
   "source": [
    "for topic in imp_topics:\n",
    "    print 'Calculating length probabilities for {} topic..'.format(topic[0])\n",
    "    length_success(topic[0])"
   ]
  },
  {
   "cell_type": "code",
   "execution_count": 26,
   "metadata": {
    "collapsed": false
   },
   "outputs": [
    {
     "data": {
      "text/html": [
       "<div>\n",
       "<table border=\"1\" class=\"dataframe\">\n",
       "  <thead>\n",
       "    <tr style=\"text-align: right;\">\n",
       "      <th></th>\n",
       "      <th>Topic</th>\n",
       "      <th>Lower Bound</th>\n",
       "      <th>Upper Bound</th>\n",
       "      <th>Probability Success</th>\n",
       "    </tr>\n",
       "  </thead>\n",
       "  <tbody>\n",
       "    <tr>\n",
       "      <th>0</th>\n",
       "      <td>0</td>\n",
       "      <td>0</td>\n",
       "      <td>42</td>\n",
       "      <td>0.185286</td>\n",
       "    </tr>\n",
       "    <tr>\n",
       "      <th>1</th>\n",
       "      <td>0</td>\n",
       "      <td>42</td>\n",
       "      <td>84</td>\n",
       "      <td>0.235474</td>\n",
       "    </tr>\n",
       "    <tr>\n",
       "      <th>2</th>\n",
       "      <td>0</td>\n",
       "      <td>84</td>\n",
       "      <td>126</td>\n",
       "      <td>0.300395</td>\n",
       "    </tr>\n",
       "    <tr>\n",
       "      <th>3</th>\n",
       "      <td>0</td>\n",
       "      <td>126</td>\n",
       "      <td>168</td>\n",
       "      <td>0.329032</td>\n",
       "    </tr>\n",
       "    <tr>\n",
       "      <th>4</th>\n",
       "      <td>0</td>\n",
       "      <td>168</td>\n",
       "      <td>210</td>\n",
       "      <td>0.292453</td>\n",
       "    </tr>\n",
       "  </tbody>\n",
       "</table>\n",
       "</div>"
      ],
      "text/plain": [
       "   Topic  Lower Bound  Upper Bound  Probability Success\n",
       "0      0            0           42             0.185286\n",
       "1      0           42           84             0.235474\n",
       "2      0           84          126             0.300395\n",
       "3      0          126          168             0.329032\n",
       "4      0          168          210             0.292453"
      ]
     },
     "execution_count": 26,
     "metadata": {},
     "output_type": "execute_result"
    }
   ],
   "source": [
    "df_length = pd.DataFrame(length,columns=['Topic','Lower Bound','Upper Bound','Probability Success'])\n",
    "df_length.head(5)"
   ]
  },
  {
   "cell_type": "code",
   "execution_count": 27,
   "metadata": {
    "collapsed": true
   },
   "outputs": [],
   "source": [
    "df_length.to_csv('LengthCorrelation.csv',sep=',',columns=df_length.columns)"
   ]
  },
  {
   "cell_type": "code",
   "execution_count": 28,
   "metadata": {
    "collapsed": false
   },
   "outputs": [],
   "source": [
    "topic_points = []\n",
    "for topic in imp_topics:\n",
    "    points = []\n",
    "    df_new = df_length[df_length['Topic'] == topic[0]]\n",
    "    for i in range(8):    \n",
    "        points.append(((df_new.iloc[i,1] + df_new.iloc[i,2]/2),df_new.iloc[i,3]))\n",
    "    topic_points.append(points)"
   ]
  },
  {
   "cell_type": "markdown",
   "metadata": {},
   "source": [
    "### Length and Topic relation in view of the successful requests"
   ]
  },
  {
   "cell_type": "code",
   "execution_count": 31,
   "metadata": {
    "collapsed": false
   },
   "outputs": [
    {
     "data": {
      "image/png": "[encoded data removed]",
      "text/plain": [
       "<matplotlib.figure.Figure at 0x13298b550>"
      ]
     },
     "metadata": {},
     "output_type": "display_data"
    }
   ],
   "source": [
    "i = 1\n",
    "for points in topic_points:\n",
    "    plt.subplot(3,4,i)\n",
    "    plt.plot([point[0] for point in points],[point[1] for point in points])\n",
    "    plt.ylabel('Probability of Success')\n",
    "    plt.title('Topic {}'.format(imp_topics[i-1][0]))\n",
    "    i += 1\n",
    "    if i > 10:\n",
    "        i = 1\n",
    "plt.show()"
   ]
  },
  {
   "cell_type": "markdown",
   "metadata": {
    "collapsed": false
   },
   "source": [
    "### Finding 'Evidentiality' in each of the request"
   ]
  },
  {
   "cell_type": "code",
   "execution_count": 32,
   "metadata": {
    "collapsed": false
   },
   "outputs": [],
   "source": [
    "import re\n",
    "regex = 'http[s]?://(?:[a-zA-Z]|[0-9]|[$-_@.&+]|[!*\\(\\),]|(?:%[0-9a-fA-F][0-9a-fA-F]))+'"
   ]
  },
  {
   "cell_type": "code",
   "execution_count": 33,
   "metadata": {
    "collapsed": false
   },
   "outputs": [],
   "source": [
    "evidentiality,i = np.ones((len(train['request_text_edit_aware']))),0\n",
    "for request in train[\"request_text_edit_aware\"]:\n",
    "    url = re.findall(regex,request)\n",
    "    if len(url) <= 0:\n",
    "        evidentiality[i] = 0\n",
    "    i += 1"
   ]
  },
  {
   "cell_type": "code",
   "execution_count": 34,
   "metadata": {
    "collapsed": false
   },
   "outputs": [
    {
     "data": {
      "text/html": [
       "<div>\n",
       "<table border=\"1\" class=\"dataframe\">\n",
       "  <thead>\n",
       "    <tr style=\"text-align: right;\">\n",
       "      <th></th>\n",
       "      <th>giver_username_if_known</th>\n",
       "      <th>request_id</th>\n",
       "      <th>request_text_edit_aware</th>\n",
       "      <th>request_title</th>\n",
       "      <th>requester_account_age_in_days_at_request</th>\n",
       "      <th>requester_days_since_first_post_on_raop_at_request</th>\n",
       "      <th>requester_number_of_comments_at_request</th>\n",
       "      <th>requester_number_of_comments_in_raop_at_request</th>\n",
       "      <th>requester_number_of_posts_at_request</th>\n",
       "      <th>requester_number_of_posts_on_raop_at_request</th>\n",
       "      <th>...</th>\n",
       "      <th>requester_upvotes_minus_downvotes_at_request</th>\n",
       "      <th>requester_upvotes_plus_downvotes_at_request</th>\n",
       "      <th>requester_username</th>\n",
       "      <th>unix_timestamp_of_request</th>\n",
       "      <th>unix_timestamp_of_request_utc</th>\n",
       "      <th>data_type</th>\n",
       "      <th>topics</th>\n",
       "      <th>received</th>\n",
       "      <th>request_length</th>\n",
       "      <th>evidentiality</th>\n",
       "    </tr>\n",
       "  </thead>\n",
       "  <tbody>\n",
       "    <tr>\n",
       "      <th>0</th>\n",
       "      <td>N/A</td>\n",
       "      <td>t3_l25d7</td>\n",
       "      <td>Hi I am in need of food for my 4 children we a...</td>\n",
       "      <td>Request Colorado Springs Help Us Please</td>\n",
       "      <td>0.0000</td>\n",
       "      <td>0.0</td>\n",
       "      <td>0</td>\n",
       "      <td>0</td>\n",
       "      <td>0</td>\n",
       "      <td>0</td>\n",
       "      <td>...</td>\n",
       "      <td>0</td>\n",
       "      <td>0</td>\n",
       "      <td>nickylvst</td>\n",
       "      <td>1317852607</td>\n",
       "      <td>1317849007</td>\n",
       "      <td>train</td>\n",
       "      <td>2</td>\n",
       "      <td>False</td>\n",
       "      <td>67</td>\n",
       "      <td>0.0</td>\n",
       "    </tr>\n",
       "    <tr>\n",
       "      <th>1</th>\n",
       "      <td>N/A</td>\n",
       "      <td>t3_rcb83</td>\n",
       "      <td>I spent the last money I had on gas today. Im ...</td>\n",
       "      <td>[Request] California, No cash and I could use ...</td>\n",
       "      <td>501.1111</td>\n",
       "      <td>0.0</td>\n",
       "      <td>0</td>\n",
       "      <td>0</td>\n",
       "      <td>15</td>\n",
       "      <td>0</td>\n",
       "      <td>...</td>\n",
       "      <td>34</td>\n",
       "      <td>116</td>\n",
       "      <td>fohacidal</td>\n",
       "      <td>1332652424</td>\n",
       "      <td>1332648824</td>\n",
       "      <td>train</td>\n",
       "      <td>14</td>\n",
       "      <td>False</td>\n",
       "      <td>16</td>\n",
       "      <td>0.0</td>\n",
       "    </tr>\n",
       "  </tbody>\n",
       "</table>\n",
       "<p>2 rows × 22 columns</p>\n",
       "</div>"
      ],
      "text/plain": [
       "  giver_username_if_known request_id  \\\n",
       "0                     N/A   t3_l25d7   \n",
       "1                     N/A   t3_rcb83   \n",
       "\n",
       "                             request_text_edit_aware  \\\n",
       "0  Hi I am in need of food for my 4 children we a...   \n",
       "1  I spent the last money I had on gas today. Im ...   \n",
       "\n",
       "                                       request_title  \\\n",
       "0            Request Colorado Springs Help Us Please   \n",
       "1  [Request] California, No cash and I could use ...   \n",
       "\n",
       "   requester_account_age_in_days_at_request  \\\n",
       "0                                    0.0000   \n",
       "1                                  501.1111   \n",
       "\n",
       "   requester_days_since_first_post_on_raop_at_request  \\\n",
       "0                                                0.0    \n",
       "1                                                0.0    \n",
       "\n",
       "   requester_number_of_comments_at_request  \\\n",
       "0                                        0   \n",
       "1                                        0   \n",
       "\n",
       "   requester_number_of_comments_in_raop_at_request  \\\n",
       "0                                                0   \n",
       "1                                                0   \n",
       "\n",
       "   requester_number_of_posts_at_request  \\\n",
       "0                                     0   \n",
       "1                                    15   \n",
       "\n",
       "   requester_number_of_posts_on_raop_at_request      ...       \\\n",
       "0                                             0      ...        \n",
       "1                                             0      ...        \n",
       "\n",
       "   requester_upvotes_minus_downvotes_at_request  \\\n",
       "0                                             0   \n",
       "1                                            34   \n",
       "\n",
       "  requester_upvotes_plus_downvotes_at_request  requester_username  \\\n",
       "0                                           0           nickylvst   \n",
       "1                                         116           fohacidal   \n",
       "\n",
       "   unix_timestamp_of_request unix_timestamp_of_request_utc  data_type  topics  \\\n",
       "0                 1317852607                    1317849007      train       2   \n",
       "1                 1332652424                    1332648824      train      14   \n",
       "\n",
       "  received  request_length evidentiality  \n",
       "0    False              67           0.0  \n",
       "1    False              16           0.0  \n",
       "\n",
       "[2 rows x 22 columns]"
      ]
     },
     "execution_count": 34,
     "metadata": {},
     "output_type": "execute_result"
    }
   ],
   "source": [
    "train['evidentiality'] = evidentiality\n",
    "train.head(2)"
   ]
  },
  {
   "cell_type": "code",
   "execution_count": 35,
   "metadata": {
    "collapsed": false
   },
   "outputs": [
    {
     "name": "stdout",
     "output_type": "stream",
     "text": [
      "Percentage of successful requests with evidence: 35.192%\n"
     ]
    }
   ],
   "source": [
    "## How evidentiality affects the success rate\n",
    "total = train[train['evidentiality'] == 1].received\n",
    "success = len(total[total == True])\n",
    "print 'Percentage of successful requests with evidence: {}%'.format(round(float(success)*100/len(total),3))"
   ]
  },
  {
   "cell_type": "code",
   "execution_count": 36,
   "metadata": {
    "collapsed": false
   },
   "outputs": [
    {
     "name": "stdout",
     "output_type": "stream",
     "text": [
      "Percentage of successful requests without evidence: 23.794%\n"
     ]
    }
   ],
   "source": [
    "total = train[train['evidentiality'] == 0].received\n",
    "success = len(total[total == True])\n",
    "print 'Percentage of successful requests without evidence: {}%'.format(round(float(success)*100/len(total),3))"
   ]
  },
  {
   "cell_type": "markdown",
   "metadata": {},
   "source": [
    "### Relation of Evidentiality with Success of a request"
   ]
  },
  {
   "cell_type": "code",
   "execution_count": 37,
   "metadata": {
    "collapsed": false
   },
   "outputs": [
    {
     "data": {
      "image/png": "[encoded data removed]",
      "text/plain": [
       "<matplotlib.figure.Figure at 0x1340380d0>"
      ]
     },
     "metadata": {},
     "output_type": "display_data"
    }
   ],
   "source": [
    "evidence_relation = pd.Series({'Success with evidence':35.192,'Success without evidence':23.794})\n",
    "evidence_relation.to_csv('evidenceRelation.csv',sep=',')\n",
    "evidence_relation.plot(kind='bar',rot=0)\n",
    "plt.ylabel('Percentage of Successful request')\n",
    "plt.title('How evidence effects a successful request')\n",
    "plt.show()"
   ]
  },
  {
   "cell_type": "markdown",
   "metadata": {},
   "source": [
    "### Finding reciprocity in the request"
   ]
  },
  {
   "cell_type": "code",
   "execution_count": 38,
   "metadata": {
    "collapsed": false
   },
   "outputs": [],
   "source": [
    "reciprocity,i = np.zeros((len(train['request_text_edit_aware']),)),0\n",
    "regex = 'return the favor|pay it forward|pay it back'\n",
    "for request in train['request_text_edit_aware']:\n",
    "    match = re.search(regex,request)\n",
    "    if match:\n",
    "        reciprocity[i] = 1\n",
    "    i += 1"
   ]
  },
  {
   "cell_type": "code",
   "execution_count": 39,
   "metadata": {
    "collapsed": false
   },
   "outputs": [
    {
     "data": {
      "text/html": [
       "<div>\n",
       "<table border=\"1\" class=\"dataframe\">\n",
       "  <thead>\n",
       "    <tr style=\"text-align: right;\">\n",
       "      <th></th>\n",
       "      <th>giver_username_if_known</th>\n",
       "      <th>request_id</th>\n",
       "      <th>request_text_edit_aware</th>\n",
       "      <th>request_title</th>\n",
       "      <th>requester_account_age_in_days_at_request</th>\n",
       "      <th>requester_days_since_first_post_on_raop_at_request</th>\n",
       "      <th>requester_number_of_comments_at_request</th>\n",
       "      <th>requester_number_of_comments_in_raop_at_request</th>\n",
       "      <th>requester_number_of_posts_at_request</th>\n",
       "      <th>requester_number_of_posts_on_raop_at_request</th>\n",
       "      <th>...</th>\n",
       "      <th>requester_upvotes_plus_downvotes_at_request</th>\n",
       "      <th>requester_username</th>\n",
       "      <th>unix_timestamp_of_request</th>\n",
       "      <th>unix_timestamp_of_request_utc</th>\n",
       "      <th>data_type</th>\n",
       "      <th>topics</th>\n",
       "      <th>received</th>\n",
       "      <th>request_length</th>\n",
       "      <th>evidentiality</th>\n",
       "      <th>reciprocity</th>\n",
       "    </tr>\n",
       "  </thead>\n",
       "  <tbody>\n",
       "    <tr>\n",
       "      <th>0</th>\n",
       "      <td>N/A</td>\n",
       "      <td>t3_l25d7</td>\n",
       "      <td>Hi I am in need of food for my 4 children we a...</td>\n",
       "      <td>Request Colorado Springs Help Us Please</td>\n",
       "      <td>0.0000</td>\n",
       "      <td>0.0</td>\n",
       "      <td>0</td>\n",
       "      <td>0</td>\n",
       "      <td>0</td>\n",
       "      <td>0</td>\n",
       "      <td>...</td>\n",
       "      <td>0</td>\n",
       "      <td>nickylvst</td>\n",
       "      <td>1317852607</td>\n",
       "      <td>1317849007</td>\n",
       "      <td>train</td>\n",
       "      <td>2</td>\n",
       "      <td>False</td>\n",
       "      <td>67</td>\n",
       "      <td>0.0</td>\n",
       "      <td>0.0</td>\n",
       "    </tr>\n",
       "    <tr>\n",
       "      <th>1</th>\n",
       "      <td>N/A</td>\n",
       "      <td>t3_rcb83</td>\n",
       "      <td>I spent the last money I had on gas today. Im ...</td>\n",
       "      <td>[Request] California, No cash and I could use ...</td>\n",
       "      <td>501.1111</td>\n",
       "      <td>0.0</td>\n",
       "      <td>0</td>\n",
       "      <td>0</td>\n",
       "      <td>15</td>\n",
       "      <td>0</td>\n",
       "      <td>...</td>\n",
       "      <td>116</td>\n",
       "      <td>fohacidal</td>\n",
       "      <td>1332652424</td>\n",
       "      <td>1332648824</td>\n",
       "      <td>train</td>\n",
       "      <td>14</td>\n",
       "      <td>False</td>\n",
       "      <td>16</td>\n",
       "      <td>0.0</td>\n",
       "      <td>0.0</td>\n",
       "    </tr>\n",
       "  </tbody>\n",
       "</table>\n",
       "<p>2 rows × 23 columns</p>\n",
       "</div>"
      ],
      "text/plain": [
       "  giver_username_if_known request_id  \\\n",
       "0                     N/A   t3_l25d7   \n",
       "1                     N/A   t3_rcb83   \n",
       "\n",
       "                             request_text_edit_aware  \\\n",
       "0  Hi I am in need of food for my 4 children we a...   \n",
       "1  I spent the last money I had on gas today. Im ...   \n",
       "\n",
       "                                       request_title  \\\n",
       "0            Request Colorado Springs Help Us Please   \n",
       "1  [Request] California, No cash and I could use ...   \n",
       "\n",
       "   requester_account_age_in_days_at_request  \\\n",
       "0                                    0.0000   \n",
       "1                                  501.1111   \n",
       "\n",
       "   requester_days_since_first_post_on_raop_at_request  \\\n",
       "0                                                0.0    \n",
       "1                                                0.0    \n",
       "\n",
       "   requester_number_of_comments_at_request  \\\n",
       "0                                        0   \n",
       "1                                        0   \n",
       "\n",
       "   requester_number_of_comments_in_raop_at_request  \\\n",
       "0                                                0   \n",
       "1                                                0   \n",
       "\n",
       "   requester_number_of_posts_at_request  \\\n",
       "0                                     0   \n",
       "1                                    15   \n",
       "\n",
       "   requester_number_of_posts_on_raop_at_request     ...      \\\n",
       "0                                             0     ...       \n",
       "1                                             0     ...       \n",
       "\n",
       "   requester_upvotes_plus_downvotes_at_request requester_username  \\\n",
       "0                                            0          nickylvst   \n",
       "1                                          116          fohacidal   \n",
       "\n",
       "   unix_timestamp_of_request  unix_timestamp_of_request_utc data_type  topics  \\\n",
       "0                 1317852607                     1317849007     train       2   \n",
       "1                 1332652424                     1332648824     train      14   \n",
       "\n",
       "   received request_length  evidentiality reciprocity  \n",
       "0     False             67            0.0         0.0  \n",
       "1     False             16            0.0         0.0  \n",
       "\n",
       "[2 rows x 23 columns]"
      ]
     },
     "execution_count": 39,
     "metadata": {},
     "output_type": "execute_result"
    }
   ],
   "source": [
    "train['reciprocity'] = reciprocity\n",
    "train.head(2)"
   ]
  },
  {
   "cell_type": "code",
   "execution_count": 40,
   "metadata": {
    "collapsed": false
   },
   "outputs": [
    {
     "name": "stdout",
     "output_type": "stream",
     "text": [
      "Percentage of successful requests with reciprocity: 30.058%\n"
     ]
    }
   ],
   "source": [
    "## Finding percentage of successful request with reciprocity and without it\n",
    "total = train[train['reciprocity'] == 1].received\n",
    "success = len(total[total == True])\n",
    "print 'Percentage of successful requests with reciprocity: {}%'.format(round(float(success)*100/len(total),3))"
   ]
  },
  {
   "cell_type": "code",
   "execution_count": 41,
   "metadata": {
    "collapsed": false
   },
   "outputs": [
    {
     "name": "stdout",
     "output_type": "stream",
     "text": [
      "Percentage of successful requests with reciprocity: 23.8%\n"
     ]
    }
   ],
   "source": [
    "total = train[train['reciprocity'] == 0].received\n",
    "success = len(total[total == True])\n",
    "print 'Percentage of successful requests with reciprocity: {}%'.format(round(float(success)*100/len(total),3))"
   ]
  },
  {
   "cell_type": "markdown",
   "metadata": {},
   "source": [
    "### Relation of Reciprocity with Successful request"
   ]
  },
  {
   "cell_type": "code",
   "execution_count": 42,
   "metadata": {
    "collapsed": false
   },
   "outputs": [
    {
     "data": {
      "image/png": "[encoded data removed]",
      "text/plain": [
       "<matplotlib.figure.Figure at 0x134983ad0>"
      ]
     },
     "metadata": {},
     "output_type": "display_data"
    }
   ],
   "source": [
    "reciprocity_relation = pd.Series({'Success with reciprocity':30.058,'Success without reciprocity':23.8})\n",
    "reciprocity_relation.to_csv('reciprocity_relation.csv',sep=',')\n",
    "reciprocity_relation.plot(kind='bar',rot=0)\n",
    "plt.ylabel('Percentage of Successful request')\n",
    "plt.title('How reciprocity effects a successful request')\n",
    "plt.show()"
   ]
  },
  {
   "cell_type": "markdown",
   "metadata": {},
   "source": [
    "## Introducing new features in the dataset"
   ]
  },
  {
   "cell_type": "markdown",
   "metadata": {
    "collapsed": true
   },
   "source": [
    "### Narratives"
   ]
  },
  {
   "cell_type": "code",
   "execution_count": 43,
   "metadata": {
    "collapsed": false
   },
   "outputs": [
    {
     "data": {
      "text/html": [
       "<div>\n",
       "<table border=\"1\" class=\"dataframe\">\n",
       "  <thead>\n",
       "    <tr style=\"text-align: right;\">\n",
       "      <th></th>\n",
       "      <th>giver_username_if_known</th>\n",
       "      <th>request_id</th>\n",
       "      <th>request_text_edit_aware</th>\n",
       "      <th>request_title</th>\n",
       "      <th>requester_account_age_in_days_at_request</th>\n",
       "      <th>requester_days_since_first_post_on_raop_at_request</th>\n",
       "      <th>requester_number_of_comments_at_request</th>\n",
       "      <th>requester_number_of_comments_in_raop_at_request</th>\n",
       "      <th>requester_number_of_posts_at_request</th>\n",
       "      <th>requester_number_of_posts_on_raop_at_request</th>\n",
       "      <th>...</th>\n",
       "      <th>requester_upvotes_plus_downvotes_at_request</th>\n",
       "      <th>requester_username</th>\n",
       "      <th>unix_timestamp_of_request</th>\n",
       "      <th>unix_timestamp_of_request_utc</th>\n",
       "      <th>data_type</th>\n",
       "      <th>topics</th>\n",
       "      <th>received</th>\n",
       "      <th>request_length</th>\n",
       "      <th>evidentiality</th>\n",
       "      <th>reciprocity</th>\n",
       "    </tr>\n",
       "  </thead>\n",
       "  <tbody>\n",
       "    <tr>\n",
       "      <th>0</th>\n",
       "      <td>N/A</td>\n",
       "      <td>t3_l25d7</td>\n",
       "      <td>Hi I am in need of food for my 4 children we a...</td>\n",
       "      <td>Request Colorado Springs Help Us Please</td>\n",
       "      <td>0.0000</td>\n",
       "      <td>0.0</td>\n",
       "      <td>0</td>\n",
       "      <td>0</td>\n",
       "      <td>0</td>\n",
       "      <td>0</td>\n",
       "      <td>...</td>\n",
       "      <td>0</td>\n",
       "      <td>nickylvst</td>\n",
       "      <td>1317852607</td>\n",
       "      <td>1317849007</td>\n",
       "      <td>train</td>\n",
       "      <td>2</td>\n",
       "      <td>False</td>\n",
       "      <td>67</td>\n",
       "      <td>0.0</td>\n",
       "      <td>0.0</td>\n",
       "    </tr>\n",
       "    <tr>\n",
       "      <th>1</th>\n",
       "      <td>N/A</td>\n",
       "      <td>t3_rcb83</td>\n",
       "      <td>I spent the last money I had on gas today. Im ...</td>\n",
       "      <td>[Request] California, No cash and I could use ...</td>\n",
       "      <td>501.1111</td>\n",
       "      <td>0.0</td>\n",
       "      <td>0</td>\n",
       "      <td>0</td>\n",
       "      <td>15</td>\n",
       "      <td>0</td>\n",
       "      <td>...</td>\n",
       "      <td>116</td>\n",
       "      <td>fohacidal</td>\n",
       "      <td>1332652424</td>\n",
       "      <td>1332648824</td>\n",
       "      <td>train</td>\n",
       "      <td>14</td>\n",
       "      <td>False</td>\n",
       "      <td>16</td>\n",
       "      <td>0.0</td>\n",
       "      <td>0.0</td>\n",
       "    </tr>\n",
       "  </tbody>\n",
       "</table>\n",
       "<p>2 rows × 23 columns</p>\n",
       "</div>"
      ],
      "text/plain": [
       "  giver_username_if_known request_id  \\\n",
       "0                     N/A   t3_l25d7   \n",
       "1                     N/A   t3_rcb83   \n",
       "\n",
       "                             request_text_edit_aware  \\\n",
       "0  Hi I am in need of food for my 4 children we a...   \n",
       "1  I spent the last money I had on gas today. Im ...   \n",
       "\n",
       "                                       request_title  \\\n",
       "0            Request Colorado Springs Help Us Please   \n",
       "1  [Request] California, No cash and I could use ...   \n",
       "\n",
       "   requester_account_age_in_days_at_request  \\\n",
       "0                                    0.0000   \n",
       "1                                  501.1111   \n",
       "\n",
       "   requester_days_since_first_post_on_raop_at_request  \\\n",
       "0                                                0.0    \n",
       "1                                                0.0    \n",
       "\n",
       "   requester_number_of_comments_at_request  \\\n",
       "0                                        0   \n",
       "1                                        0   \n",
       "\n",
       "   requester_number_of_comments_in_raop_at_request  \\\n",
       "0                                                0   \n",
       "1                                                0   \n",
       "\n",
       "   requester_number_of_posts_at_request  \\\n",
       "0                                     0   \n",
       "1                                    15   \n",
       "\n",
       "   requester_number_of_posts_on_raop_at_request     ...      \\\n",
       "0                                             0     ...       \n",
       "1                                             0     ...       \n",
       "\n",
       "   requester_upvotes_plus_downvotes_at_request requester_username  \\\n",
       "0                                            0          nickylvst   \n",
       "1                                          116          fohacidal   \n",
       "\n",
       "   unix_timestamp_of_request  unix_timestamp_of_request_utc data_type  topics  \\\n",
       "0                 1317852607                     1317849007     train       2   \n",
       "1                 1332652424                     1332648824     train      14   \n",
       "\n",
       "   received request_length  evidentiality reciprocity  \n",
       "0     False             67            0.0         0.0  \n",
       "1     False             16            0.0         0.0  \n",
       "\n",
       "[2 rows x 23 columns]"
      ]
     },
     "execution_count": 43,
     "metadata": {},
     "output_type": "execute_result"
    }
   ],
   "source": [
    "train.head(2)"
   ]
  },
  {
   "cell_type": "code",
   "execution_count": 44,
   "metadata": {
    "collapsed": true
   },
   "outputs": [],
   "source": [
    "narrative = {'Money': 'money now broke week until time last \\\n",
    "day when today tonight paid next first night after tomorrow \\\n",
    "month while account before long Friday rent buy bank still \\\n",
    "bills bills ago cash due due soon past never paycheck check \\\n",
    "spent years poor till yesterday morning dollars financial \\\n",
    "hour bill evening credit budget loan bucks deposit dollar \\\n",
    "current payed'.split(),'Job':'work job paycheck unemployment\\\n",
    "interview fired employment hired hire'.split(),'Student':'college\\\n",
    "student school roommate studying university finals semester class\\\n",
    "study project dorm tuition'.split(),'Family':'family mom wife parents\\\n",
    "mother hus- band dad son daughter father parent mum'.split(),'Craving':'friend \\\n",
    "girlfriend craving birthday boyfriend celebrate party game games movie\\\n",
    "date drunk beer celebrating invited drinks crave wasted invite'.split()}"
   ]
  },
  {
   "cell_type": "code",
   "execution_count": 45,
   "metadata": {
    "collapsed": false
   },
   "outputs": [],
   "source": [
    "request_narrative = []\n",
    "narration = []\n",
    "for request in train['request_text_edit_aware']:\n",
    "    word_count = {'Money':0,'Job':0,'Student':0,'Family':0,'Craving':0}\n",
    "    n = 0\n",
    "    for word in request.split():\n",
    "        for lexicon in narrative:\n",
    "            if word in narrative[lexicon]:\n",
    "                word_count[lexicon] += 1\n",
    "    for lexicon in word_count:\n",
    "        n += word_count[lexicon]\n",
    "    request_narrative.append(word_count)\n",
    "    try:\n",
    "        narration.append(float(n)/len(request.split()))\n",
    "    except:\n",
    "        narration.append(0)"
   ]
  },
  {
   "cell_type": "code",
   "execution_count": 46,
   "metadata": {
    "collapsed": false
   },
   "outputs": [],
   "source": [
    "train['narrative'] = narration"
   ]
  },
  {
   "cell_type": "markdown",
   "metadata": {},
   "source": [
    "### Dependency Parsing Using Stanford Parser"
   ]
  },
  {
   "cell_type": "code",
   "execution_count": 47,
   "metadata": {
    "collapsed": false
   },
   "outputs": [
    {
     "data": {
      "text/html": [
       "<div>\n",
       "<table border=\"1\" class=\"dataframe\">\n",
       "  <thead>\n",
       "    <tr style=\"text-align: right;\">\n",
       "      <th></th>\n",
       "      <th>giver_username_if_known</th>\n",
       "      <th>request_id</th>\n",
       "      <th>request_text_edit_aware</th>\n",
       "      <th>request_title</th>\n",
       "      <th>requester_account_age_in_days_at_request</th>\n",
       "      <th>requester_days_since_first_post_on_raop_at_request</th>\n",
       "      <th>requester_number_of_comments_at_request</th>\n",
       "      <th>requester_number_of_comments_in_raop_at_request</th>\n",
       "      <th>requester_number_of_posts_at_request</th>\n",
       "      <th>requester_number_of_posts_on_raop_at_request</th>\n",
       "      <th>...</th>\n",
       "      <th>requester_username</th>\n",
       "      <th>unix_timestamp_of_request</th>\n",
       "      <th>unix_timestamp_of_request_utc</th>\n",
       "      <th>data_type</th>\n",
       "      <th>topics</th>\n",
       "      <th>received</th>\n",
       "      <th>request_length</th>\n",
       "      <th>evidentiality</th>\n",
       "      <th>reciprocity</th>\n",
       "      <th>narrative</th>\n",
       "    </tr>\n",
       "  </thead>\n",
       "  <tbody>\n",
       "    <tr>\n",
       "      <th>0</th>\n",
       "      <td>N/A</td>\n",
       "      <td>t3_l25d7</td>\n",
       "      <td>Hi I am in need of food for my 4 children we a...</td>\n",
       "      <td>Request Colorado Springs Help Us Please</td>\n",
       "      <td>0.0000</td>\n",
       "      <td>0.0</td>\n",
       "      <td>0</td>\n",
       "      <td>0</td>\n",
       "      <td>0</td>\n",
       "      <td>0</td>\n",
       "      <td>...</td>\n",
       "      <td>nickylvst</td>\n",
       "      <td>1317852607</td>\n",
       "      <td>1317849007</td>\n",
       "      <td>train</td>\n",
       "      <td>2</td>\n",
       "      <td>False</td>\n",
       "      <td>67</td>\n",
       "      <td>0.0</td>\n",
       "      <td>0.0</td>\n",
       "      <td>0.044776</td>\n",
       "    </tr>\n",
       "    <tr>\n",
       "      <th>1</th>\n",
       "      <td>N/A</td>\n",
       "      <td>t3_rcb83</td>\n",
       "      <td>I spent the last money I had on gas today. Im ...</td>\n",
       "      <td>[Request] California, No cash and I could use ...</td>\n",
       "      <td>501.1111</td>\n",
       "      <td>0.0</td>\n",
       "      <td>0</td>\n",
       "      <td>0</td>\n",
       "      <td>15</td>\n",
       "      <td>0</td>\n",
       "      <td>...</td>\n",
       "      <td>fohacidal</td>\n",
       "      <td>1332652424</td>\n",
       "      <td>1332648824</td>\n",
       "      <td>train</td>\n",
       "      <td>14</td>\n",
       "      <td>False</td>\n",
       "      <td>16</td>\n",
       "      <td>0.0</td>\n",
       "      <td>0.0</td>\n",
       "      <td>0.375000</td>\n",
       "    </tr>\n",
       "  </tbody>\n",
       "</table>\n",
       "<p>2 rows × 24 columns</p>\n",
       "</div>"
      ],
      "text/plain": [
       "  giver_username_if_known request_id  \\\n",
       "0                     N/A   t3_l25d7   \n",
       "1                     N/A   t3_rcb83   \n",
       "\n",
       "                             request_text_edit_aware  \\\n",
       "0  Hi I am in need of food for my 4 children we a...   \n",
       "1  I spent the last money I had on gas today. Im ...   \n",
       "\n",
       "                                       request_title  \\\n",
       "0            Request Colorado Springs Help Us Please   \n",
       "1  [Request] California, No cash and I could use ...   \n",
       "\n",
       "   requester_account_age_in_days_at_request  \\\n",
       "0                                    0.0000   \n",
       "1                                  501.1111   \n",
       "\n",
       "   requester_days_since_first_post_on_raop_at_request  \\\n",
       "0                                                0.0    \n",
       "1                                                0.0    \n",
       "\n",
       "   requester_number_of_comments_at_request  \\\n",
       "0                                        0   \n",
       "1                                        0   \n",
       "\n",
       "   requester_number_of_comments_in_raop_at_request  \\\n",
       "0                                                0   \n",
       "1                                                0   \n",
       "\n",
       "   requester_number_of_posts_at_request  \\\n",
       "0                                     0   \n",
       "1                                    15   \n",
       "\n",
       "   requester_number_of_posts_on_raop_at_request    ...     requester_username  \\\n",
       "0                                             0    ...              nickylvst   \n",
       "1                                             0    ...              fohacidal   \n",
       "\n",
       "  unix_timestamp_of_request  unix_timestamp_of_request_utc  data_type topics  \\\n",
       "0                1317852607                     1317849007      train      2   \n",
       "1                1332652424                     1332648824      train     14   \n",
       "\n",
       "   received  request_length evidentiality  reciprocity narrative  \n",
       "0     False              67           0.0          0.0  0.044776  \n",
       "1     False              16           0.0          0.0  0.375000  \n",
       "\n",
       "[2 rows x 24 columns]"
      ]
     },
     "execution_count": 47,
     "metadata": {},
     "output_type": "execute_result"
    }
   ],
   "source": [
    "train.head(2)"
   ]
  },
  {
   "cell_type": "code",
   "execution_count": 48,
   "metadata": {
    "collapsed": false
   },
   "outputs": [],
   "source": [
    "from nltk.parse.stanford import StanfordDependencyParser\n",
    "import string"
   ]
  },
  {
   "cell_type": "code",
   "execution_count": 49,
   "metadata": {
    "collapsed": true
   },
   "outputs": [],
   "source": [
    "path_to_jar = '../../../Downloads/stanford-parser-full-2014-08-27/stanford-parser.jar'\n",
    "path_to_models_jar = '../../../Downloads/stanford-parser-full-2014-08-27/stanford-parser-3.4.1-models.jar'"
   ]
  },
  {
   "cell_type": "code",
   "execution_count": null,
   "metadata": {
    "collapsed": false
   },
   "outputs": [],
   "source": [
    "dependency_parser = StanfordDependencyParser(path_to_jar=path_to_jar, path_to_models_jar=path_to_models_jar)"
   ]
  },
  {
   "cell_type": "code",
   "execution_count": null,
   "metadata": {
    "collapsed": false
   },
   "outputs": [],
   "source": [
    "def dep_parse(phrase):\n",
    "    words = [word for word in set(word_tokenize(phrase)) if word not in string.punctuation]\n",
    "    result = dependency_parser.raw_parse(phrase)\n",
    "    dep = result.next()\n",
    "    if dep == None:\n",
    "        return ''\n",
    "    triplet = list(dep.triples())\n",
    "    if triplet == None:\n",
    "        return ''\n",
    "    parse = []\n",
    "    for i in triplet:\n",
    "        try:\n",
    "            parse.append(\"{}({}-{}, {}-{})\".format(i[1],i[0][0],words.index(i[0][0])+1,i[2][0],words.index(i[2][0])+1))\n",
    "        except:\n",
    "            pass\n",
    "    return parse"
   ]
  },
  {
   "cell_type": "code",
   "execution_count": null,
   "metadata": {
    "collapsed": true
   },
   "outputs": [],
   "source": [
    "from nltk.tokenize import word_tokenize"
   ]
  },
  {
   "cell_type": "code",
   "execution_count": null,
   "metadata": {
    "collapsed": false
   },
   "outputs": [],
   "source": [
    "import nltk.data\n",
    "tokenizer = nltk.data.load('nltk:tokenizers/punkt/english.pickle')"
   ]
  },
  {
   "cell_type": "code",
   "execution_count": null,
   "metadata": {
    "collapsed": false,
    "scrolled": true
   },
   "outputs": [],
   "source": [
    "## Warning : TAKES A LONG TIME TO RUN\n",
    "## DON'T RUN UNTIL REQUIRED\n",
    "text_documents,i = [],2501\n",
    "for text in train:\n",
    "    i += 1\n",
    "    parsed_sents = {}\n",
    "    try:\n",
    "        parsed_sents['text'] = text\n",
    "        parsed_sents['sentences'] = [sents for sents in np.asarray(tokenizer.tokenize(text)) if len(sents.split()) > 1]\n",
    "        temp = []\n",
    "        for sentence in parsed_sents['sentences']:\n",
    "            try:\n",
    "                temp.append(dep_parse(sentence))\n",
    "            except:\n",
    "                pass\n",
    "        parsed_sents['parses'] = temp\n",
    "    except:\n",
    "        print text\n",
    "        break\n",
    "    text_documents.append(parsed_sents)\n",
    "    print '{} requests parsed...'.format(i)\n",
    "    if i%100 == 0:\n",
    "        %store text_documents >> test_documents_new.py"
   ]
  },
  {
   "cell_type": "code",
   "execution_count": null,
   "metadata": {
    "collapsed": false
   },
   "outputs": [],
   "source": [
    "filename = str(raw_input('Enter the filename: '))\n",
    "%store text_documents >> filename"
   ]
  },
  {
   "cell_type": "markdown",
   "metadata": {
    "collapsed": false
   },
   "source": [
    "### Finding Redundancy in requests using Cosine Similarity"
   ]
  },
  {
   "cell_type": "code",
   "execution_count": 54,
   "metadata": {
    "collapsed": true
   },
   "outputs": [],
   "source": [
    "def statistical_sim(sent1, sent2):\n",
    "    '''\n",
    "    Statistical similarity between sentences\n",
    "    based on the cosine method\n",
    "    Returns: float (the cosine similarity b/w sent1 and sent2)\n",
    "    '''\n",
    "    sent_token1 = Counter(sent1)\n",
    "    sent_token2 = Counter(sent2)\n",
    "\n",
    "    intxn = set(sent_token1) & set(sent_token2)\n",
    "    numerator = sum([sent_token1[x] * sent_token2[x] for x in intxn])\n",
    "\n",
    "    mod1 = sum([sent_token1[x]**2 for x in sent_token1.keys()])\n",
    "    mod2 = sum([sent_token2[x]**2 for x in sent_token2.keys()])\n",
    "    denominator = sqrt(mod1)*sqrt(mod2)\n",
    "\n",
    "    if not denominator:\n",
    "        return 0.0\n",
    "\n",
    "    return float(numerator)/denominator"
   ]
  },
  {
   "cell_type": "code",
   "execution_count": 55,
   "metadata": {
    "collapsed": false
   },
   "outputs": [
    {
     "data": {
      "text/plain": [
       "1.0000000000000002"
      ]
     },
     "execution_count": 55,
     "metadata": {},
     "output_type": "execute_result"
    }
   ],
   "source": [
    "## Sanity check for statistical similarity\n",
    "sent1 = 'Hello my name is Najeeb Khan'\n",
    "sent2 = 'Hello my name is Najeeb Khan'\n",
    "statistical_sim(sent1,sent2)"
   ]
  },
  {
   "cell_type": "code",
   "execution_count": null,
   "metadata": {
    "collapsed": false,
    "scrolled": true
   },
   "outputs": [],
   "source": [
    "## Warning : Takes a long time to RUN\n",
    "## Do not RUN until required\n",
    "i = 0\n",
    "similarity = []\n",
    "for request1 in data_train['request_text_edit_aware']:\n",
    "    cosine_sim = []\n",
    "    for request2 in data_train['request_text_edit_aware']:\n",
    "        if request1 != request2:\n",
    "            cosine_sim.append(statistical_sim(request1,request2))\n",
    "    similarity.append([np.argmax(np.asarray(cosine_sim)),np.max(np.asarray(cosine_sim))])\n",
    "    i += 1\n",
    "    if i%100 == 0:\n",
    "        %store similarity >> similarity.py\n",
    "        print 'Finding similarity in request {}'.format(i)"
   ]
  },
  {
   "cell_type": "markdown",
   "metadata": {},
   "source": [
    "The data is saved in ../../Datasets/Random Acts Of Pizza/data_train.json"
   ]
  },
  {
   "cell_type": "code",
   "execution_count": 65,
   "metadata": {
    "collapsed": false
   },
   "outputs": [],
   "source": [
    "train['similarity'] = pd.read_json('../../Dataset/Random Acts Of Pizza/data_train.json')['similarity']"
   ]
  },
  {
   "cell_type": "markdown",
   "metadata": {
    "collapsed": false
   },
   "source": [
    "### Including the politeness feature"
   ]
  },
  {
   "cell_type": "code",
   "execution_count": 58,
   "metadata": {
    "collapsed": false
   },
   "outputs": [],
   "source": [
    "politeness_data = pd.read_csv('../../Dataset/Random Acts Of Pizza/politeness_one.csv',index_col=0)\n",
    "part_two = pd.read_csv('../../Dataset/Random Acts Of Pizza/politeness_two.csv',index_col=0)"
   ]
  },
  {
   "cell_type": "code",
   "execution_count": 59,
   "metadata": {
    "collapsed": false
   },
   "outputs": [],
   "source": [
    "## One data is missing... So appending missing data\n",
    "politeness_data = politeness_data.append({'text':data_train.iloc[2500,2],'polite':0.5,'impolite':0.5},ignore_index=True)"
   ]
  },
  {
   "cell_type": "code",
   "execution_count": 60,
   "metadata": {
    "collapsed": false
   },
   "outputs": [
    {
     "name": "stdout",
     "output_type": "stream",
     "text": [
      "True\n"
     ]
    }
   ],
   "source": [
    "## Sanity Check for the size of dataset\n",
    "print politeness_data.shape[0] + part_two.shape[0] == train.shape[0]"
   ]
  },
  {
   "cell_type": "code",
   "execution_count": 61,
   "metadata": {
    "collapsed": false
   },
   "outputs": [],
   "source": [
    "## Adding the politeness data into 'master' dataframe\n",
    "politeness_data = politeness_data.append(part_two,ignore_index=True)\n",
    "train['polite'] = politeness_data['polite']\n",
    "train['impolite'] = politeness_data['impolite']"
   ]
  },
  {
   "cell_type": "markdown",
   "metadata": {},
   "source": [
    "### Creating the target .json file"
   ]
  },
  {
   "cell_type": "code",
   "execution_count": 66,
   "metadata": {
    "collapsed": false
   },
   "outputs": [
    {
     "data": {
      "text/html": [
       "<div>\n",
       "<table border=\"1\" class=\"dataframe\">\n",
       "  <thead>\n",
       "    <tr style=\"text-align: right;\">\n",
       "      <th></th>\n",
       "      <th>giver_username_if_known</th>\n",
       "      <th>request_id</th>\n",
       "      <th>request_text_edit_aware</th>\n",
       "      <th>request_title</th>\n",
       "      <th>requester_account_age_in_days_at_request</th>\n",
       "      <th>requester_days_since_first_post_on_raop_at_request</th>\n",
       "      <th>requester_number_of_comments_at_request</th>\n",
       "      <th>requester_number_of_comments_in_raop_at_request</th>\n",
       "      <th>requester_number_of_posts_at_request</th>\n",
       "      <th>requester_number_of_posts_on_raop_at_request</th>\n",
       "      <th>...</th>\n",
       "      <th>data_type</th>\n",
       "      <th>topics</th>\n",
       "      <th>received</th>\n",
       "      <th>request_length</th>\n",
       "      <th>evidentiality</th>\n",
       "      <th>reciprocity</th>\n",
       "      <th>narrative</th>\n",
       "      <th>polite</th>\n",
       "      <th>impolite</th>\n",
       "      <th>similarity</th>\n",
       "    </tr>\n",
       "  </thead>\n",
       "  <tbody>\n",
       "    <tr>\n",
       "      <th>0</th>\n",
       "      <td>N/A</td>\n",
       "      <td>t3_l25d7</td>\n",
       "      <td>Hi I am in need of food for my 4 children we a...</td>\n",
       "      <td>Request Colorado Springs Help Us Please</td>\n",
       "      <td>0.0000</td>\n",
       "      <td>0.0</td>\n",
       "      <td>0</td>\n",
       "      <td>0</td>\n",
       "      <td>0</td>\n",
       "      <td>0</td>\n",
       "      <td>...</td>\n",
       "      <td>train</td>\n",
       "      <td>2</td>\n",
       "      <td>False</td>\n",
       "      <td>67</td>\n",
       "      <td>0.0</td>\n",
       "      <td>0.0</td>\n",
       "      <td>0.044776</td>\n",
       "      <td>0.282749</td>\n",
       "      <td>0.717251</td>\n",
       "      <td>[11, 0.9920912137]</td>\n",
       "    </tr>\n",
       "    <tr>\n",
       "      <th>1</th>\n",
       "      <td>N/A</td>\n",
       "      <td>t3_rcb83</td>\n",
       "      <td>I spent the last money I had on gas today. Im ...</td>\n",
       "      <td>[Request] California, No cash and I could use ...</td>\n",
       "      <td>501.1111</td>\n",
       "      <td>0.0</td>\n",
       "      <td>0</td>\n",
       "      <td>0</td>\n",
       "      <td>15</td>\n",
       "      <td>0</td>\n",
       "      <td>...</td>\n",
       "      <td>train</td>\n",
       "      <td>14</td>\n",
       "      <td>False</td>\n",
       "      <td>16</td>\n",
       "      <td>0.0</td>\n",
       "      <td>0.0</td>\n",
       "      <td>0.375000</td>\n",
       "      <td>0.551206</td>\n",
       "      <td>0.448794</td>\n",
       "      <td>[1971, 0.9757849288]</td>\n",
       "    </tr>\n",
       "  </tbody>\n",
       "</table>\n",
       "<p>2 rows × 27 columns</p>\n",
       "</div>"
      ],
      "text/plain": [
       "  giver_username_if_known request_id  \\\n",
       "0                     N/A   t3_l25d7   \n",
       "1                     N/A   t3_rcb83   \n",
       "\n",
       "                             request_text_edit_aware  \\\n",
       "0  Hi I am in need of food for my 4 children we a...   \n",
       "1  I spent the last money I had on gas today. Im ...   \n",
       "\n",
       "                                       request_title  \\\n",
       "0            Request Colorado Springs Help Us Please   \n",
       "1  [Request] California, No cash and I could use ...   \n",
       "\n",
       "   requester_account_age_in_days_at_request  \\\n",
       "0                                    0.0000   \n",
       "1                                  501.1111   \n",
       "\n",
       "   requester_days_since_first_post_on_raop_at_request  \\\n",
       "0                                                0.0    \n",
       "1                                                0.0    \n",
       "\n",
       "   requester_number_of_comments_at_request  \\\n",
       "0                                        0   \n",
       "1                                        0   \n",
       "\n",
       "   requester_number_of_comments_in_raop_at_request  \\\n",
       "0                                                0   \n",
       "1                                                0   \n",
       "\n",
       "   requester_number_of_posts_at_request  \\\n",
       "0                                     0   \n",
       "1                                    15   \n",
       "\n",
       "   requester_number_of_posts_on_raop_at_request          ...           \\\n",
       "0                                             0          ...            \n",
       "1                                             0          ...            \n",
       "\n",
       "   data_type topics  received  request_length evidentiality  reciprocity  \\\n",
       "0      train      2     False              67           0.0          0.0   \n",
       "1      train     14     False              16           0.0          0.0   \n",
       "\n",
       "   narrative    polite  impolite            similarity  \n",
       "0   0.044776  0.282749  0.717251    [11, 0.9920912137]  \n",
       "1   0.375000  0.551206  0.448794  [1971, 0.9757849288]  \n",
       "\n",
       "[2 rows x 27 columns]"
      ]
     },
     "execution_count": 66,
     "metadata": {},
     "output_type": "execute_result"
    }
   ],
   "source": [
    "train.head(2)"
   ]
  },
  {
   "cell_type": "code",
   "execution_count": 67,
   "metadata": {
    "collapsed": true
   },
   "outputs": [],
   "source": [
    "train.to_json('../../Dataset/Random Acts Of Pizza/trainingData.json',orient='columns')"
   ]
  },
  {
   "cell_type": "code",
   "execution_count": 70,
   "metadata": {
    "collapsed": false
   },
   "outputs": [
    {
     "name": "stdout",
     "output_type": "stream",
     "text": [
      "Huzzah... No NaNs.. Mission Accomplished :)\n"
     ]
    }
   ],
   "source": [
    "if train.isnull().values.any() == False:\n",
    "    print 'Huzzah... No NaNs.. Mission Accomplished :)'"
   ]
  },
  {
   "cell_type": "code",
   "execution_count": null,
   "metadata": {
    "collapsed": true
   },
   "outputs": [],
   "source": []
  }
 ],
 "metadata": {
  "anaconda-cloud": {},
  "kernelspec": {
   "display_name": "Python [default]",
   "language": "python",
   "name": "python2"
  },
  "language_info": {
   "codemirror_mode": {
    "name": "ipython",
    "version": 2
   },
   "file_extension": ".py",
   "mimetype": "text/x-python",
   "name": "python",
   "nbconvert_exporter": "python",
   "pygments_lexer": "ipython2",
   "version": "2.7.12"
  }
 },
 "nbformat": 4,
 "nbformat_minor": 0
}
